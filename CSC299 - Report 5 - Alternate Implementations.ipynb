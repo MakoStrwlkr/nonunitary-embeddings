{
 "cells": [
  {
   "cell_type": "markdown",
   "id": "68f2ae28",
   "metadata": {},
   "source": [
    "This report focuses on alternate ways in which we could have implemented the LCu algorithm in Python. Much of the content in this report is based on analyzing the drawbacks of the way in which the current implementation works, and comparing it with potential improvements resulting from other options of implementation. For instance, we look at exchanging the binary encoding of the ancilla registers in the original implementation with a unary embedding, and we also look at how we could have used non-variational algorithms for the necessary state preparation and the resulting tradeoffs."
   ]
  }
 ],
 "metadata": {
  "kernelspec": {
   "display_name": "Python 3",
   "language": "python",
   "name": "python3"
  },
  "language_info": {
   "codemirror_mode": {
    "name": "ipython",
    "version": 3
   },
   "file_extension": ".py",
   "mimetype": "text/x-python",
   "name": "python",
   "nbconvert_exporter": "python",
   "pygments_lexer": "ipython3",
   "version": "3.9.1"
  }
 },
 "nbformat": 4,
 "nbformat_minor": 5
}
