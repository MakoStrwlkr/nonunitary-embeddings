{
 "cells": [
  {
   "cell_type": "code",
   "execution_count": null,
   "id": "bfed29ea",
   "metadata": {},
   "outputs": [],
   "source": []
  },
  {
   "cell_type": "markdown",
   "id": "468c913d",
   "metadata": {},
   "source": [
    "# Introduction\n",
    "\n",
    "In this report, we shall focus on generalizing the implementation of the LCU algorithm to beyond the one- and two-qubit ancilla cases. Note that we can simply reuse the amplitude amplification routine from Report 1 and the implementation of the $\\mathrm{Select}$ operator from Report 2, since both of these functions have no inherent restrictions on the size of the ancillae used.\n",
    "\n",
    "Hence, the primary emphasis of this report shall be to construct a functional implementation of the $\\mathrm{Prepare}$ operator in Python. We also note the fact that we are not currently concerned about the optimality of such an implementation and, as such, the main intention is to simply have a functional program which passes all our tests. The subject of reaching optimality for a program in a generalized setting is often a difficult endeavour, but we shall, nonetheless, introduce certain altenative implementations and potential improvements in certain scenarios in Report 5."
   ]
  },
  {
   "cell_type": "markdown",
   "id": "37b633f7",
   "metadata": {},
   "source": [
    "# Implementing Prepare operator"
   ]
  },
  {
   "cell_type": "markdown",
   "id": "f6036d74",
   "metadata": {},
   "source": [
    "# The LCU class"
   ]
  },
  {
   "cell_type": "markdown",
   "id": "afcb536c",
   "metadata": {},
   "source": [
    "# Testing functions"
   ]
  },
  {
   "cell_type": "markdown",
   "id": "ba319458",
   "metadata": {},
   "source": [
    "# References"
   ]
  }
 ],
 "metadata": {
  "kernelspec": {
   "display_name": "Python 3",
   "language": "python",
   "name": "python3"
  },
  "language_info": {
   "codemirror_mode": {
    "name": "ipython",
    "version": 3
   },
   "file_extension": ".py",
   "mimetype": "text/x-python",
   "name": "python",
   "nbconvert_exporter": "python",
   "pygments_lexer": "ipython3",
   "version": "3.9.1"
  }
 },
 "nbformat": 4,
 "nbformat_minor": 5
}
