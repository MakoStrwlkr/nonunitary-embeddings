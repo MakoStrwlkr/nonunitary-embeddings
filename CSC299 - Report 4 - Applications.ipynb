{
 "cells": [
  {
   "cell_type": "markdown",
   "id": "b65a3340",
   "metadata": {},
   "source": [
    "In this report, we focus on several practical applications of the LCU algorithm, which we have discussed \n",
    "\n",
    "# Time evolution\n",
    "\n",
    "Suppose that we wish to simulate the evolution under some Hamiltonian $H$ for time $t$ within a maximum error of some $\\epsilon > 0$ with the operator $U = e^{-iHt}$. Divide the time $t$ into $r$ equal time-segments of length $t/r$. For each segment, define the operator for time-evolution within that segment as follows:\n",
    "\\begin{align*}\n",
    "    U_r = e^{-iHt/r} \\approx \\sum_{j=0}^K \\frac1{j!} (-iHt/r)^j\n",
    "\\end{align*}\n",
    "\n",
    "Here, we wish to truncate the Taylor series expansion of the exponential at some order $K$ such that the maximum error for each segment is $\\epsilon/r$, which would imply that the maximum result across all the segments is $\\epsilon$. Assuming that $r > \\left|\\left| H \\right|\\right| t$ (where $\\left|\\left| \\cdot \\right|\\right|$ denotes the usual matrix norm), we see that we must have:\n",
    "\\begin{align*}\n",
    "    K &\\in \\mathcal{O}\\left( \\frac{\\log(r/\\epsilon)}{\\log(\\log(r/\\epsilon))} \\right)\n",
    "\\end{align*}"
   ]
  },
  {
   "cell_type": "markdown",
   "id": "119e0e8d",
   "metadata": {},
   "source": []
  },
  {
   "cell_type": "markdown",
   "id": "075d1583",
   "metadata": {},
   "source": []
  },
  {
   "cell_type": "markdown",
   "id": "935347b2",
   "metadata": {},
   "source": []
  },
  {
   "cell_type": "markdown",
   "id": "cc001ada",
   "metadata": {},
   "source": []
  },
  {
   "cell_type": "markdown",
   "id": "edf5951b",
   "metadata": {},
   "source": []
  },
  {
   "cell_type": "markdown",
   "id": "867186da",
   "metadata": {},
   "source": []
  },
  {
   "cell_type": "markdown",
   "id": "4e0b277c",
   "metadata": {},
   "source": []
  },
  {
   "cell_type": "markdown",
   "id": "059485ab",
   "metadata": {},
   "source": []
  },
  {
   "cell_type": "markdown",
   "id": "050a6e19",
   "metadata": {},
   "source": []
  },
  {
   "cell_type": "markdown",
   "id": "d3d78ad6",
   "metadata": {},
   "source": []
  }
 ],
 "metadata": {
  "kernelspec": {
   "display_name": "Python 3",
   "language": "python",
   "name": "python3"
  },
  "language_info": {
   "codemirror_mode": {
    "name": "ipython",
    "version": 3
   },
   "file_extension": ".py",
   "mimetype": "text/x-python",
   "name": "python",
   "nbconvert_exporter": "python",
   "pygments_lexer": "ipython3",
   "version": "3.9.1"
  }
 },
 "nbformat": 4,
 "nbformat_minor": 5
}
