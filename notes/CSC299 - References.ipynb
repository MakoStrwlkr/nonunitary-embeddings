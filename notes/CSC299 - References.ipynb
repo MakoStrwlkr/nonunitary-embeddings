{
 "cells": [
  {
   "cell_type": "markdown",
   "id": "bffba3a1",
   "metadata": {},
   "source": [
    "- Berry, D. W., Childs, A. M., Cleve, R., Kothari, R., Somma, R. D. (2014). Simulating Hamiltonian dynamics with a truncated Taylor series. [arXiv:1412.4687](https://arxiv.org/abs/1412.4687)\n",
    "\n",
    "- Harrow, A. W., Hassidim, A., Lloyd, S. (2009). Quantum algorithm for solving linear systems of equations. [arXiv:0811.3171](https://arxiv.org/abs/0811.3171)\n",
    "\n",
    "- Cervera-Lierta, A. (2020). Tequila State Preparation Tutorial. GitHub repository [Link](https://github.com/aspuru-guzik-group/tequila-tutorials/blob/main/StatePreparation_tutorial.ipynb) \\{Accessed June 8, 2021\\}. \n",
    "\n",
    "- Kottmann, J., et al. (2021). Tequila: A platform for rapid development of quantum algorithms. [arXiv:2011.03057](https://arxiv.org/abs/2011.03057v2)\n",
    "\n",
    "- Low, G. H., Chuang, I. L., (2019). Hamiltonian Simulation by Qubitization. [arXiv:1610.06546](https://arxiv.org/abs/1610.06546)\n",
    "\n",
    "- Leyton, S. K., Osborne, T. J. (2008). A quantum algorithm to solve nonlinear differential equations. [arXiv:0812.4423](https://arxiv.org/abs/0812.4423)\n",
    "\n",
    "- Buhrman, H., Cleve, R., Watrous, J., de Wolf, R. (2001). Quantum Fingerprinting. Physical Review Letters. 87 (16). [arXiv:quant-ph/0102001](https://arxiv.org/abs/quant-ph/0102001)\n",
    "\n",
    "- Aharonov, D., Jones, V., Landau, Z. (2006). A Polynomial Quantum Algorithm for Approximating the Jones Polynomial. [arXiv:quant-ph/0511096](https://arxiv.org/abs/quant-ph/0511096)\n",
    "\n",
    "- Ralli, A., Love, P., Tranter, A., Coveney, P. (2021). Implementation of Measurement Reduction for the Variational Quantum Eigensolver. [arXiv:2012.02765](https://arxiv.org/abs/2012.02765v2)\n",
    "\n",
    "- Verteletskyi, V., Yen, T., Izmaylov, A. F. (2020). Measurement Optimization in the Variational Quantum Eigensolver Using a Minimum Clique Cover. [arXiv:1907.03358](https://arxiv.org/abs/1907.03358)\n",
    "\n",
    "- Sanders, Y. R., Low, G. H., Scherer, A., Berry, D. W. (2019). Black-box quantum state preparation without arithmetic. [arXiv:1807.03206](https://arxiv.org/abs/1807.03206v2)\n",
    "\n",
    "- Iiyama, Y. (2020). Quantum state preparation with multiplicative amplitude transduction. [arXiv:2006.00975](https://arxiv.org/abs/2006.00975v1)\n",
    "\n",
    "- Nielsen, M. A., Chuang, I. L. (2010). Universal quantum gates. In Quantum computation and quantum information (pp. 188–194)., Cambridge University Press.\n",
    "\n",
    "- Berry, D. W., Childs, A. M., Cleve, R., Kothari, R., Somma, R. D. (2014). Exponential improvement in precision for simulating sparse Hamiltonians. arXiv preprint [arXiv:1312.1414](https://arxiv.org/abs/1312.1414)"
   ]
  }
 ],
 "metadata": {
  "kernelspec": {
   "display_name": "Python 3",
   "language": "python",
   "name": "python3"
  },
  "language_info": {
   "codemirror_mode": {
    "name": "ipython",
    "version": 3
   },
   "file_extension": ".py",
   "mimetype": "text/x-python",
   "name": "python",
   "nbconvert_exporter": "python",
   "pygments_lexer": "ipython3",
   "version": "3.9.1"
  }
 },
 "nbformat": 4,
 "nbformat_minor": 5
}
