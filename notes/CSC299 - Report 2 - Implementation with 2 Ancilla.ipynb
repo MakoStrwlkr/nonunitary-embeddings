{
 "cells": [
  {
   "cell_type": "code",
   "execution_count": 1,
   "id": "88358a8d",
   "metadata": {},
   "outputs": [],
   "source": [
    "import tequila as tq\n",
    "from typing import Iterable\n",
    "import numpy as np\n",
    "from math import sqrt\n",
    "import random\n",
    "import copy"
   ]
  },
  {
   "cell_type": "markdown",
   "id": "97388db3",
   "metadata": {},
   "source": [
    "# Goals of this report\n",
    "\n",
    "We have previously seen how to create the LCU circuit in the case of having two unitary operations in our linear combination (i.e., where we only need one qubit ancilla). Now, we try to extend this definition of the LCU circuit to the case of having 2 qubits in the ancilla, which will allow for having up to 4 unitary operations in our expansion.\n",
    "\n",
    "The main challenge in such a step is the fact that having a simplistic implementation of the select operator of the LCU algorithm will result in difficulty in implementing the prepare operator, and vice versa. For this report, we utilize the simple definition for the select operator (as explained in the previous report), with a trade-off of having a more detailed approach for the prepare operator.\n",
    "\n",
    "# Implementing Prepare operator\n",
    "\n",
    "Now, for the prepare circuit, we are only concerned about what the $\\left| 00 \\right\\rangle$ state gets mapped to, and we are not concerned about what the other states get mapped to, since we shall only ever apply the operator to the $\\left| 00 \\right\\rangle$ state. The difficulty in such an implementation is that we do not know which circuit would give such a result, and hence, the problem effectively reduces to the general problem of state preparation.\n",
    "\n",
    "This section utilizes techniques that were presented in Tequila's tutorial for state-preparation by Alba Cervera-Lierta (2020).\n",
    "\n",
    "Reference used: [Tequila state preparation tutorial](https://github.com/aspuru-guzik-group/tequila-tutorials/blob/main/StatePreparation_tutorial.ipynb)\n",
    "\n",
    "With that said, the following cells demonstrate how we defined the prepare circuit for the case of 2 qubit ancilla."
   ]
  },
  {
   "cell_type": "markdown",
   "id": "f1b74a61",
   "metadata": {},
   "source": [
    "Firstly, we define the fidelity between two wavefunctions as an objective, as follows. Let $F(x, y)$ denote the fidelity "
   ]
  },
  {
   "cell_type": "code",
   "execution_count": 2,
   "id": "aff313fa",
   "metadata": {},
   "outputs": [],
   "source": [
    "def fidelity(wfn_target: tq.wavefunction.qubit_wavefunction.QubitWaveFunction,\n",
    "             qc: tq.QCircuit) -> tq.Objective:\n",
    "    \"\"\"Return the fidelity between wfn_target and the expectation value of qc\"\"\"\n",
    "    rho_targ = tq.paulis.Projector(wfn=wfn_target)\n",
    "    objective = tq.Objective.ExpectationValue(U=qc, H=rho_targ)\n",
    "    return objective"
   ]
  },
  {
   "cell_type": "markdown",
   "id": "2c4b7ffb",
   "metadata": {},
   "source": [
    "Next, we create a parametrized circuit over two qubits which will allow us to change the circuit as desired by changing some parameters $\\theta, \\phi, \\lambda$."
   ]
  },
  {
   "cell_type": "code",
   "execution_count": 3,
   "id": "6750498e",
   "metadata": {},
   "outputs": [],
   "source": [
    "def param_circ(anc: list) \\\n",
    "        -> tuple[list[tq.Variable], list[tq.Variable], list[tq.Variable], tq.QCircuit]:\n",
    "    \"\"\"Return a parameterized quantum circuit which acts over two qubits \n",
    "    with variables theta, phi, lambda for each qubit.\n",
    "\n",
    "    Preconditions:\n",
    "        - len(anc) == 2\n",
    "    \"\"\"\n",
    "\n",
    "    # define variables\n",
    "    th = [tq.Variable(name='theta_{}'.format(i)) for i in range(0, 4)]\n",
    "    phi = [tq.Variable(name='phi_{}'.format(i)) for i in range(0, 4)]\n",
    "    lam = [tq.Variable(name='lam_{}'.format(i)) for i in range(0, 4)]\n",
    "\n",
    "    # PQC\n",
    "    pqc = unitary_gate(th[0], phi[0], lam[0], anc[0]) + unitary_gate(th[1], phi[1], lam[1], anc[1])\n",
    "    pqc += tq.gates.CNOT(control=anc[0], target=anc[1])\n",
    "    pqc += unitary_gate(th[2], phi[2], lam[2], anc[0]) + unitary_gate(th[3], phi[3], lam[3], anc[1])\n",
    "\n",
    "    return (th, phi, lam, pqc)"
   ]
  },
  {
   "cell_type": "code",
   "execution_count": 4,
   "id": "70f4fef2",
   "metadata": {},
   "outputs": [],
   "source": [
    "def unitary_gate(th, phi, lam, q0) -> tq.QCircuit:\n",
    "    \"\"\"Return a particular quantum gate that is not included in the basic gate set\"\"\"\n",
    "    ugate = tq.gates.Rz(target=q0, angle=phi) + tq.gates.Ry(target=q0, angle=th) + tq.gates.Rz(\n",
    "        target=q0, angle=lam)\n",
    "    return ugate"
   ]
  },
  {
   "cell_type": "markdown",
   "id": "39599fdd",
   "metadata": {},
   "source": [
    "Now, we simply rephrase the task of constructing the Prepare operator in the form of a minimization problem. We know the target state, as per the algorithm outlined in Report 1. So, all that remains is to construct an objective function which, in this case, the objective is the fidelity between the target state and the trial state obtained by the trial parametrized circuit. We do so as follows:"
   ]
  },
  {
   "cell_type": "code",
   "execution_count": 5,
   "id": "2f5c6d73",
   "metadata": {},
   "outputs": [],
   "source": [
    "def prepare_operator_optimize_2anc(ancilla: list, unitaries: list[tuple[float, tq.QCircuit]]) \\\n",
    "        -> tuple[tq.QCircuit, tq.optimizers, float]:\n",
    "    \"\"\"Return the circuit corresponding to the prepare operator.\n",
    "\n",
    "    Preconditions:\n",
    "        - all(coeff != 0 for coeff in [pair[0] for pair in unitaries])\n",
    "        - len(ancilla) == 2\n",
    "        - 2 < len(unitaries) <= 4\n",
    "    \"\"\"\n",
    "    m = len(ancilla)\n",
    "\n",
    "    # Define required state\n",
    "    coefficients = [unit[0] for unit in unitaries]\n",
    "    normalize = sqrt(sum(coefficients))\n",
    "\n",
    "    coefficients = [sqrt(coeff) / normalize for coeff in coefficients]\n",
    "\n",
    "    if len(coefficients) < 2 ** m:\n",
    "        coefficients.append(0)\n",
    "\n",
    "    wfn_target = tq.QubitWaveFunction.from_array(np.asarray(coefficients))\n",
    "    wfn_target = wfn_target.normalize()\n",
    "\n",
    "    # Create general parametric circuit\n",
    "    th, phi, lam, pqc = param_circ(ancilla)\n",
    "    n_th, n_phi, n_lam = len(th), len(phi), len(lam)\n",
    "\n",
    "    # Initialize random wfn\n",
    "    th0 = {key: random.uniform(0, np.pi) for key in th}\n",
    "    phi0 = {key: random.uniform(0, np.pi) for key in phi}\n",
    "    lam0 = {key: random.uniform(0, np.pi) for key in lam}\n",
    "    initial_values = {**th0, **phi0, **lam0}\n",
    "\n",
    "    # Define (in)fidelity\n",
    "    wfn_pqc = tq.simulate(pqc, variables=initial_values)\n",
    "    inf = fidelity(wfn_target, pqc)\n",
    "\n",
    "    # Define bounds (if supported)\n",
    "    min_angles, max_angles = 0, 4 * np.pi\n",
    "    bnds_list = [[min_angles, max_angles]]\n",
    "    for _ in range(len(initial_values)):\n",
    "        bnds_list.append([min_angles, max_angles])\n",
    "    th_dict = dict(zip([str(th[i]) for i in range(0, n_th)], bnds_list))\n",
    "    phi_dict = dict(zip([str(phi[i]) for i in range(0, n_phi)], bnds_list))\n",
    "    lam_dict = dict(zip([str(lam[i]) for i in range(0, n_lam)], bnds_list))\n",
    "\n",
    "    bnds = {**th_dict, **phi_dict, **lam_dict}\n",
    "\n",
    "    # Minimize objective\n",
    "    # t0 = time.time()\n",
    "    infid = tq.minimize(objective=inf, initial_values=initial_values, method='TNC',\n",
    "                        method_bounds=bnds, silent=True)\n",
    "    # t1 = time.time()\n",
    "\n",
    "    final_fidelity = 1 - infid.energy\n",
    "    return pqc, infid, final_fidelity"
   ]
  },
  {
   "cell_type": "markdown",
   "id": "5458c3b9",
   "metadata": {},
   "source": [
    "Finally, we wish to implement a fail-safe in the case that the above method fails to give us an acceptable level of fidelity, which we define to be 0.99. To handle such a case, we ask the user to provide their own circuit to prepare the required state, if such a circuit is known already; if no such circuit is known, then we proceed with using the above function instead to come up with a good approximation instead. We take care of such aspects of the code in the final LCU function."
   ]
  },
  {
   "cell_type": "markdown",
   "id": "23e05957",
   "metadata": {},
   "source": [
    "# Implementing Select operator\n",
    "\n",
    "Much of the implementation of the select operator remains unchanged from the previous report except for the one additional subroutine used to calculate how to use the controls for each controlled unitary in the expansion. The following cells show how this was implemented:"
   ]
  },
  {
   "cell_type": "code",
   "execution_count": 6,
   "id": "a07e7da3",
   "metadata": {},
   "outputs": [],
   "source": [
    "def controlled_unitary(ancilla: list, unitary: tq.QCircuit, n: int) -> tq.QCircuit:\n",
    "    \"\"\"Return controlled version of unitary\n",
    "\n",
    "    SHOULD NOT mutate unitary\n",
    "\n",
    "    Preconditions:\n",
    "        - ancilla and unitary cannot have any common qubits\n",
    "        - 0 <= n < 2 ** len(ancilla)\n",
    "    \"\"\"\n",
    "    m = len(ancilla)\n",
    "\n",
    "    binary_list = _num_to_binary_list(m, n)\n",
    "    # print(binary_list)\n",
    "\n",
    "    # assert all([digit == 0 or digit == 1 for digit in binary_list])\n",
    "\n",
    "    circuit = tq.QCircuit()\n",
    "    for i in range(len(binary_list)):\n",
    "        if binary_list[i] == 0:\n",
    "            circuit += tq.gates.X(target=ancilla[m - i - 1])\n",
    "    reverse_gates = circuit.dagger()\n",
    "\n",
    "    circuit += _control_unitary(ancilla, unitary)\n",
    "    circuit += reverse_gates\n",
    "\n",
    "    return circuit\n",
    "\n",
    "\n",
    "def _control_unitary(ancilla, unitary: tq.QCircuit) -> tq.QCircuit:\n",
    "    \"\"\"Return controlled version of unitary\n",
    "\n",
    "    SHOULD NOT mutate unitary\n",
    "\n",
    "    Preconditions:\n",
    "        - ancilla and unitary cannot have any common qubits\n",
    "    \"\"\"\n",
    "    gates = unitary.gates\n",
    "    cgates = []\n",
    "    for gate in gates:\n",
    "        cgate = copy.deepcopy(gate)\n",
    "        if isinstance(ancilla, Iterable):\n",
    "            control_lst = list(cgate.control) + list(ancilla)\n",
    "        else:\n",
    "            control_lst = list(cgate.control) + [ancilla]\n",
    "        cgate._control = tuple(control_lst)\n",
    "        cgate.finalize()\n",
    "        cgates.append(cgate)\n",
    "\n",
    "    return tq.QCircuit(gates=cgates)\n",
    "\n",
    "\n",
    "def _num_to_binary_list(m: int, n: int) -> list[int]:\n",
    "    \"\"\"Return the binary representation of n in the form of a list of length m.\n",
    "\n",
    "    Note: bin(int) exists but returns str\n",
    "\n",
    "    Preconditions:\n",
    "        - 2 ** m > n\n",
    "    \"\"\"\n",
    "    # binary = bin(n)[2:]\n",
    "    # binary_list = [int(digit) for digit in binary]\n",
    "\n",
    "    binary = tq.BitString.from_int(integer=n, nbits=m)\n",
    "    binary_list = binary.array\n",
    "\n",
    "    # if len(binary_list) < m:\n",
    "    #     k = len(binary_list)\n",
    "    #     extend = [0 for _ in range(m - k + 1)]\n",
    "    #     binary_list = extend + binary_list\n",
    "\n",
    "    return binary_list"
   ]
  },
  {
   "cell_type": "code",
   "execution_count": 7,
   "id": "2a0e0420",
   "metadata": {},
   "outputs": [],
   "source": [
    "def select_operator(ancilla: list, sum_of_unitaries: list[tuple[float, tq.QCircuit]]) \\\n",
    "        -> tq.QCircuit:\n",
    "    \"\"\"Return the circuit corresponding to the select operator\n",
    "\n",
    "    Preconditions:\n",
    "        - 2 ** (len(ancilla) - 1) < len(sum_of_unitaries) <= 2 ** len(ancilla)\n",
    "    \"\"\"\n",
    "    unitaries = [pair[1] for pair in sum_of_unitaries]\n",
    "    circuit = tq.QCircuit()\n",
    "\n",
    "    for i in range(len(unitaries)):\n",
    "        circuit += controlled_unitary(ancilla, unitaries[i], i)\n",
    "\n",
    "    return circuit"
   ]
  },
  {
   "cell_type": "markdown",
   "id": "82792891",
   "metadata": {},
   "source": [
    "We can now implement the entire LCU algorithm in Python as follows."
   ]
  },
  {
   "cell_type": "code",
   "execution_count": 8,
   "id": "483a974d",
   "metadata": {},
   "outputs": [],
   "source": [
    "def lcu_2ancilla(ancilla, unitaries: list[tuple[float, tq.QCircuit]]) -> tq.QCircuit:\n",
    "    \"\"\"Return the circuit for the LCU algorithm excluding the amplitude amplification procedure\"\"\"\n",
    "    prepare = prepare_operator_optimize_2anc(ancilla, unitaries)\n",
    "    return prepare + select_operator_optimize_2anc(ancilla, sum_of_unitaries) + prepare.dagger()"
   ]
  },
  {
   "cell_type": "markdown",
   "id": "f61462a8",
   "metadata": {},
   "source": [
    "# Amplitude amplification\n",
    "\n",
    "Note that we can simply use the same amplitude amplification functions from the case with 1 ancilla qubit since out implementation does not depend on the number of qubits in the ancilla. Hence, we have the following functions, which were explained in Report 1."
   ]
  },
  {
   "cell_type": "code",
   "execution_count": 9,
   "id": "366aaf95",
   "metadata": {},
   "outputs": [],
   "source": [
    "def _num_iter(unitaries: list[tuple[float, tq.QCircuit]]) -> int:\n",
    "    \"\"\"Return the number of times to apply the amplitude amplificiation to maximize\n",
    "    success probability\"\"\"\n",
    "    s = sum(pair[0] for pair in unitaries)\n",
    "    alpha = arcsin(1 / s)\n",
    "    frac = (pi / 2) / alpha\n",
    "    return floor(0.5 * (frac - 1))\n",
    "\n",
    "\n",
    "def reflect_operator(state_qubits, ancilla) -> tq.QCircuit:\n",
    "    \"\"\"\n",
    "    Return the reflection operator R = (I - 2P) \\\\otimes I_N,\n",
    "    where:\n",
    "        - I is the identity operator over the ancilla,\n",
    "        - P is the projector onto the 0 state for the ancilla,\n",
    "        - I_N is the identity operator over the state register\n",
    "\n",
    "    \"\"\"\n",
    "    return tq.gates.X(target=ancilla) + tq.gates.X(control=ancilla, target=state_qubits) \\\n",
    "           + tq.gates.X(target=ancilla)\n",
    "\n",
    "\n",
    "def amp_amp_op(walk_op: tq.QCircuit, ancilla) -> tq.QCircuit:\n",
    "    \"\"\"Return W R W.dagger() R,\n",
    "     where R is the reflect operator returned by the function reflect_operator\"\"\"\n",
    "    anc_qubits = ancilla if isinstance(ancilla, list) else [ancilla]\n",
    "    state_qubits = [qubit for qubit in walk_op.qubits if qubit not in anc_qubits]\n",
    "\n",
    "    reflect = reflect_operator(state_qubits=state_qubits, ancilla=ancilla)\n",
    "\n",
    "    return reflect + walk_op.dagger() + reflect + walk_op\n",
    "\n",
    "\n",
    "def amp_amp(unitaries: list[tuple[float, tq.QCircuit]], walk_op: tq.QCircuit, ancilla) \\\n",
    "        -> tq.QCircuit:\n",
    "    \"\"\"Amplitude amplification procedure obtained by repeating the amplitude amplification\n",
    "    step for a total of s times where s is the result of function _num_iter()\n",
    "    \"\"\"\n",
    "    amplification_operator = amp_amp_op(walk_op, ancilla)\n",
    "    s = _num_iter(unitaries)\n",
    "\n",
    "    sum_of_steps = tq.QCircuit()\n",
    "    for _ in range(s):\n",
    "        sum_of_steps += amplification_operator\n",
    "\n",
    "    return walk_op + sum_of_steps"
   ]
  },
  {
   "cell_type": "markdown",
   "id": "98341854",
   "metadata": {},
   "source": [
    "# References\n",
    "\n",
    "- Cervera-Lierta, A., 2020. Tequila State Preparation Tutorial. GitHub. Available at: https://github.com/aspuru-guzik-group/tequila-tutorials/blob/main/StatePreparation_tutorial.ipynb \\{Accessed June 8, 2021\\}. "
   ]
  }
 ],
 "metadata": {
  "kernelspec": {
   "display_name": "Python 3",
   "language": "python",
   "name": "python3"
  },
  "language_info": {
   "codemirror_mode": {
    "name": "ipython",
    "version": 3
   },
   "file_extension": ".py",
   "mimetype": "text/x-python",
   "name": "python",
   "nbconvert_exporter": "python",
   "pygments_lexer": "ipython3",
   "version": "3.9.1"
  }
 },
 "nbformat": 4,
 "nbformat_minor": 5
}
