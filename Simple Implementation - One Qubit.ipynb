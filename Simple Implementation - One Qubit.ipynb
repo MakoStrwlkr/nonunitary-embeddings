{
 "cells": [
  {
   "cell_type": "markdown",
   "id": "6e3c97c0",
   "metadata": {},
   "source": [
    "# CSC299: Summer 2021: Report 1 - Implementation of LCU with 1 Ancilla"
   ]
  },
  {
   "cell_type": "markdown",
   "id": "553a644b",
   "metadata": {},
   "source": [
    "## Arkaprava Choudhury"
   ]
  },
  {
   "cell_type": "code",
   "execution_count": 1,
   "id": "ec96c02e",
   "metadata": {},
   "outputs": [],
   "source": [
    "import tequila as tq\n",
    "import copy\n",
    "from typing import Iterable\n",
    "import numpy as np"
   ]
  },
  {
   "cell_type": "markdown",
   "id": "626b236a",
   "metadata": {},
   "source": [
    "## Procedure\n",
    "\n",
    "Consider the Hamiltonian $H$ which acts over $n$ qubits. Let $N = 2^n$. WIthout loss of generality, we can assume that $H$ is Hermitian. Indeed, suppose that $H$ was not Hermitian. Then, we would define $\\tilde{H}$ such that:\n",
    "\\begin{align*}\n",
    "    \\tilde{H} &=\n",
    "    \\begin{bmatrix}\n",
    "        0 & H^\\dagger \\\\\n",
    "        H & 0\n",
    "    \\end{bmatrix}\n",
    "\\end{align*}\n",
    "Thus, $\\tilde{H}$ acts over $2n$ qubits, where the first $n$ qubits are ancillae. Furthermore, as is evident by the construction above, $\\tilde{H}$ is Hermitian, even though $H$ is not.\n",
    "\n",
    "Suppose that we have the decomposition $H = \\sum_{j=0}^{m-1} \\alpha_j U_j$ over $n$ qubits, where each of the $U_j$'s are unitary. We know that any arbitrary Hamiltonian can be expressed in such a form due to the fact that any element of the standard orthonormal basis can be expressed as a linear combination of such unitary operators (see Appendix for detailed proof).\n",
    "\n",
    "Let $s = \\sum_{k=0}^{m-1} \\alpha_k$. Moreover, without loss of generality, we can assume that $\\alpha_j > 0$ for all $j$. Indeed, suppose that there exists some $\\alpha_j < 0$: we can then replace the term $\\alpha_j U_j$ with the term $\\alpha^\\prime_j U^\\prime_j$, where $(\\alpha^\\prime_j, U^\\prime_j) = (-\\alpha_j, - U_j)$.\n",
    "\n",
    "We define the $\\text{Prepare}$ oracle as follows:\n",
    "\\begin{align*}\n",
    "    \\text{Prepare}\\left| 0 \\right\\rangle &= \\frac1{\\sqrt{s}} \\sum_{j=0}^{m-1} \\sqrt{\\alpha_j} \\left| j \\right\\rangle\n",
    "\\end{align*}\n",
    "We also define the $\\text{Select}$ oracle as follows:\n",
    "\\begin{align*}\n",
    "    \\text{Select}\\left| j \\right\\rangle \\left| \\psi \\right\\rangle &= \\left| j \\right\\rangle U_j \\left| \\psi \\right\\rangle\n",
    "\\end{align*}\n",
    "\n",
    "We thus define the operator $W$ as follows:\n",
    "\\begin{align*}\n",
    "    W &= (\\text{Prepare}^\\dagger\\otimes I_N) \\text{Select} (\\text{Prepare}\\otimes I_N)\n",
    "\\end{align*}\n",
    "Therefore, we see that:\n",
    "\\begin{align*}\n",
    "    W \\left| 0 \\right\\rangle \\left| \\psi \\right\\rangle &= \\frac1{s} \\left| 0 \\right\\rangle H\\left| \\psi \\right\\rangle + \\sqrt{1-\\frac1{s^2}} \\left| \\phi \\right\\rangle\n",
    "\\end{align*}\n",
    "where $\\left| \\phi \\right\\rangle$ is some state whose ancillary component lies in a subspace orthogonal to $\\left| 0 \\right\\rangle$. Hence, if $P_0 = \\left| 0 \\right\\rangle \\left\\langle 0 \\right|\\otimes I_N$ is the projector onto the zero-subspace, then we have that:\n",
    "\\begin{align*}\n",
    "    P_0W\\left| 0\\right\\rangle\\left| \\psi\\right\\rangle &= \\frac1{s} \\left| 0 \\right\\rangle H\\left| \\psi \\right\\rangle\n",
    "\\end{align*}\n",
    "\n",
    "The quantum circuit for this procedure looks as shown below:\n",
    "\n",
    "TODO: ADD DIAGRAM"
   ]
  },
  {
   "cell_type": "markdown",
   "id": "45cfc766",
   "metadata": {},
   "source": [
    "To obtain an exact implementation of $H$, we can choose to use amplitude amplification at the end of this procedure.\n",
    "\n",
    "For more details about these equations, refer Appendix."
   ]
  },
  {
   "cell_type": "markdown",
   "id": "2f61ce1f",
   "metadata": {},
   "source": [
    "### Notes on procedure\n",
    "\n",
    "Notice that when $H$ can be written as a linear combination of $m$ unitary operators with all positive coefficients, then we need a total of $k = \\lceil \\log_2 m\\rceil ancillary qubits to implement the above procedure.\n",
    "\n",
    "Also note that the success probability of emulating $H$ by the above procedure is $\\frac1{s^2}$. This probability depends on the size of the ancilla and decreases exponentially in the number of qubits contained in the ancilla. We can apply the procedure of amplitude amplification (refer Appendix) to increase this probability up to 1. Ideally, if $s=2$, then this fits the procedure of oblivious amplitude amplification. However, since $H$ is not unitary itself, we need to slightly alter the approach of oblivious amplitude amplification that we use here.\n",
    "\n",
    "Firstly, define the $m$-dimensional ancillary reflection $R = I_m - 2 P_0$. Next, define the amplitude amplification operator $A = - WRW^\\dagger RW$.\n",
    "\n",
    "Recall the following facts. Firstly, note that $P_0^2 = P_0$ since $P_0$ is a projection operator and that $P_0 \\left| 0 \\right\\rangle \\left| \\psi \\right\\rangle = \\left| 0 \\right\\rangle\\left| \\psi \\right\\rangle$. Also note that, by definition, $W$ is a unitary operator. Moreover, recall our assumption that $H$ is Hermitian. Finally, by construction, we have that:\n",
    "\\begin{align*}\n",
    "    PWP &= \\frac1{s} (\\left| 0 \\right\\rangle\\left\\langle 0 \\right|\\otimes H)\n",
    "\\end{align*}\n",
    "\n",
    "Therefore, we observe that:\n",
    "\\begin{align*}\n",
    "    PA\\left| 0 \\right\\rangle\\left| \\psi \\right\\rangle &= \\left(\\frac3{s}-\\frac4{s^3}\\right) \\left| 0 \\right\\rangle H \\left| \\psi \\right\\rangle\n",
    "\\end{align*}"
   ]
  },
  {
   "cell_type": "markdown",
   "id": "5c562b01",
   "metadata": {},
   "source": [
    "### One qubit example"
   ]
  },
  {
   "cell_type": "markdown",
   "id": "2886e457",
   "metadata": {},
   "source": [
    "Suppse that we are given a Hamiltonian $H$ as follows:\n",
    "\\begin{align*}\n",
    "    H &=\n",
    "    \\begin{bmatrix}\n",
    "        0 & 0 \\\\\n",
    "        0 & 1\n",
    "    \\end{bmatrix}\n",
    "\\end{align*}\n",
    "Then, clearly, $H$ is non-unitary, since $HH^\\dagger\\neq I_2$. However, we can write $H = \\frac1{2} I - \\frac1{2} Z$, thus expressing $H$ as the sum of two unitary operations.\n",
    "\n"
   ]
  },
  {
   "cell_type": "markdown",
   "id": "5cd9e47c",
   "metadata": {},
   "source": [
    "## Implementation of one qubit ancilla \n",
    "\n",
    "In this section, we wish to create an implementation of the LCU procedure \n",
    "\n",
    "We first need to define a subroutine to return the controlled version of the unitary. We do so as follows:"
   ]
  },
  {
   "cell_type": "code",
   "execution_count": 2,
   "id": "a558f99d",
   "metadata": {},
   "outputs": [],
   "source": [
    "def control_unitary(ancilla, unitary: tq.QCircuit) -> tq.QCircuit:\n",
    "    \"\"\"Return controlled version of unitary\n",
    "\n",
    "    SHOULD NOT mutate unitary\n",
    "\n",
    "    Preconditions:\n",
    "        - ancilla and unitary have no common qubits\n",
    "    \"\"\"\n",
    "    gates = unitary.gates\n",
    "    cgates = []\n",
    "    for gate in gates:\n",
    "        cgate = copy.deepcopy(gate)\n",
    "        if isinstance(ancilla, Iterable):\n",
    "            control_lst = list(cgate.control) + list(ancilla)\n",
    "        else:\n",
    "            control_lst = list(cgate.control) + [ancilla]\n",
    "        cgate._control = tuple(control_lst)\n",
    "        cgate.finalize()\n",
    "        cgates.append(cgate)\n",
    "\n",
    "    return tq.QCircuit(gates=cgates)"
   ]
  },
  {
   "cell_type": "markdown",
   "id": "e8c49961",
   "metadata": {},
   "source": [
    "Next, we implement the prepare oracle for the single-qubit ancilla case in the form of an $R_y$ rotation as follows."
   ]
  },
  {
   "cell_type": "code",
   "execution_count": 8,
   "id": "ac4f5251",
   "metadata": {},
   "outputs": [],
   "source": [
    "def prepare_2unitary(ancillary, sum_of_unitaries: list[tuple[float, tq.QCircuit]]) -> tq.QCircuit:\n",
    "    \"\"\"\n",
    "    Prepare operator, when the Hamiltonian can be expressed as the linear combination of two\n",
    "    unitary operators.\n",
    "    Requires only one ancillary qubit.\n",
    "\n",
    "    Preconditions:\n",
    "        - ...\n",
    "    \"\"\"\n",
    "    alpha_0, alpha_1 = sum_of_unitaries[0][0], sum_of_unitaries[1][0]\n",
    "\n",
    "    theta = -2 * np.arcsin(np.sqrt(alpha_1 / (alpha_0 + alpha_1)))\n",
    "\n",
    "    return tq.gates.Ry(target=ancillary, angle=theta)"
   ]
  },
  {
   "cell_type": "markdown",
   "id": "ecfda1f3",
   "metadata": {},
   "source": [
    "The select oracle is naturally translated into code as follows."
   ]
  },
  {
   "cell_type": "code",
   "execution_count": 4,
   "id": "44c9b82d",
   "metadata": {},
   "outputs": [],
   "source": [
    "def select_2unitary(ancillary, unitary_0: tq.QCircuit, unitary_1: tq.QCircuit) -> tq.QCircuit:\n",
    "    \"\"\"\n",
    "    Select operator, when the Hamiltonian can be expressed as the linear combination of two\n",
    "    unitary operators.\n",
    "    Requires only one ancillary qubit.\n",
    "\n",
    "    Returns the select oracle.\n",
    "    \"\"\"\n",
    "    impl_1 = control_unitary(ancilla=ancillary, unitary=unitary_1)\n",
    "    \n",
    "    x_gate = tq.gates.X(target=ancillary)\n",
    "    control = control_unitary(ancilla=ancillary, unitary=unitary_0)\n",
    "\n",
    "    impl_0 = x_gate + control + x_gate\n",
    "\n",
    "    return impl_1 + impl_0"
   ]
  },
  {
   "cell_type": "code",
   "execution_count": 5,
   "id": "f5a2476d",
   "metadata": {},
   "outputs": [],
   "source": [
    "def algorithm_2unitary(unitaries: list[tuple[float, tq.QCircuit]]) -> tq.QCircuit:\n",
    "    \"\"\"The main part.\n",
    "\n",
    "    TODO: write proper docstring\n",
    "    \"\"\"\n",
    "    prepare = prepare_2unitary(0, unitaries)\n",
    "    circ = prepare + select_2unitary(0, unitaries[0][1], unitaries[1][1]) + prepare.dagger()\n",
    "    return circ"
   ]
  },
  {
   "cell_type": "markdown",
   "id": "6acc3449",
   "metadata": {},
   "source": [
    "### Notes on implementation\n",
    "\n",
    "Input, output as circuits. Advantage: independent of starting state, so if initial state can be efficiently prepared, then we can efficiently simulate Hamiltonian. Drawback: need to have the circuits for each unitary used prepared beforehand."
   ]
  },
  {
   "cell_type": "markdown",
   "id": "f846c058",
   "metadata": {},
   "source": [
    "### Example"
   ]
  },
  {
   "cell_type": "code",
   "execution_count": 11,
   "id": "cb255650",
   "metadata": {},
   "outputs": [],
   "source": [
    "def example_function() -> tq.QCircuit:\n",
    "    \"\"\"Test example for LCU with two unitary matrices\"\"\"\n",
    "    identity = tq.QCircuit()\n",
    "    unitaries = [(0.5, identity), (0.5, tq.gates.Z(1))]\n",
    "    return algorithm_2unitary(unitaries=unitaries)"
   ]
  },
  {
   "cell_type": "code",
   "execution_count": 12,
   "id": "b1b86a82",
   "metadata": {},
   "outputs": [
    {
     "data": {
      "text/html": [
       "<pre style=\"word-wrap: normal;white-space: pre;background: #fff0;line-height: 1.1;font-family: &quot;Courier New&quot;,Courier,monospace\">     ┌──────────┐   ┌───┐┌───┐┌─────────┐\n",
       "q_0: ┤ RY(-π/2) ├─■─┤ X ├┤ X ├┤ RY(π/2) ├\n",
       "     └──────────┘ │ └───┘└───┘└─────────┘\n",
       "q_1: ─────────────■──────────────────────\n",
       "                                         \n",
       "c: 2/════════════════════════════════════\n",
       "                                         </pre>"
      ],
      "text/plain": [
       "     ┌──────────┐   ┌───┐┌───┐┌─────────┐\n",
       "q_0: ┤ RY(-π/2) ├─■─┤ X ├┤ X ├┤ RY(π/2) ├\n",
       "     └──────────┘ │ └───┘└───┘└─────────┘\n",
       "q_1: ─────────────■──────────────────────\n",
       "                                         \n",
       "c: 2/════════════════════════════════════\n",
       "                                         "
      ]
     },
     "execution_count": 12,
     "metadata": {},
     "output_type": "execute_result"
    }
   ],
   "source": [
    "result = example_function()\n",
    "tq.draw(result, backend='qiskit')"
   ]
  },
  {
   "cell_type": "code",
   "execution_count": null,
   "id": "6514332f",
   "metadata": {},
   "outputs": [],
   "source": []
  },
  {
   "cell_type": "code",
   "execution_count": null,
   "id": "80e7cad4",
   "metadata": {},
   "outputs": [],
   "source": []
  },
  {
   "cell_type": "code",
   "execution_count": null,
   "id": "f16868dc",
   "metadata": {},
   "outputs": [],
   "source": []
  },
  {
   "cell_type": "code",
   "execution_count": null,
   "id": "227a3a3e",
   "metadata": {},
   "outputs": [],
   "source": []
  },
  {
   "cell_type": "code",
   "execution_count": null,
   "id": "ed934506",
   "metadata": {},
   "outputs": [],
   "source": []
  },
  {
   "cell_type": "code",
   "execution_count": null,
   "id": "f437aad8",
   "metadata": {},
   "outputs": [],
   "source": []
  },
  {
   "cell_type": "code",
   "execution_count": null,
   "id": "3ee34003",
   "metadata": {},
   "outputs": [],
   "source": []
  },
  {
   "cell_type": "code",
   "execution_count": null,
   "id": "4b44f17c",
   "metadata": {},
   "outputs": [],
   "source": []
  },
  {
   "cell_type": "markdown",
   "id": "6c7ab08e",
   "metadata": {},
   "source": [
    "# Next steps: 3 or 4 unitaries (2 ancillae), and then, m unitaries"
   ]
  }
 ],
 "metadata": {
  "kernelspec": {
   "display_name": "Python 3",
   "language": "python",
   "name": "python3"
  },
  "language_info": {
   "codemirror_mode": {
    "name": "ipython",
    "version": 3
   },
   "file_extension": ".py",
   "mimetype": "text/x-python",
   "name": "python",
   "nbconvert_exporter": "python",
   "pygments_lexer": "ipython3",
   "version": "3.9.1"
  }
 },
 "nbformat": 4,
 "nbformat_minor": 5
}
