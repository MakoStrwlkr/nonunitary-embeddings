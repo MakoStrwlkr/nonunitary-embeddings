{
 "cells": [
  {
   "cell_type": "markdown",
   "id": "6e3c97c0",
   "metadata": {},
   "source": [
    "# CSC299: Summer 2021: Report 1 - Implementation of LCU with 1 Ancilla\n",
    "\n",
    "Arkaprava Choudhury"
   ]
  },
  {
   "cell_type": "markdown",
   "id": "2492dfb2",
   "metadata": {},
   "source": [
    "This shall be the first report of the CSC299 project about the automatized implementations of nonunitary operations using quantum algorithms. This report is meant to serve as an introduction to the concept of implementing any operation using its decomposition as a linear combinations of unitaries."
   ]
  },
  {
   "cell_type": "code",
   "execution_count": 1,
   "id": "ec96c02e",
   "metadata": {},
   "outputs": [],
   "source": [
    "import tequila as tq\n",
    "import copy\n",
    "from typing import Iterable\n",
    "import numpy as np"
   ]
  },
  {
   "cell_type": "markdown",
   "id": "5c34f669",
   "metadata": {},
   "source": [
    "# Introduction\n",
    "\n",
    "Quantum computing refers to using the properties of quantum states to perform computation; popular examples of such properties include superposition, interference and entanglement. It is believed that quantum computing can enable more efficient algorithms for certain problems than can be possible using solely classical methods, and one such supposed application involves the simulation of quantum systems.\n",
    "\n",
    "Over the past thirty years, multiple developments have been made in this field which demonstrate that quantum computers can efficiently simulate Hamiltonian dynamics and much of current ongoing work involves improving the performance of these methods and expanding the scope of such simulations.\n",
    "\n",
    "We wish to have a method that can simulate the effect of running any non-unitary operation $H$, if we know how to write it as a sum of unitary operations $U_j$ if we already have some mechanisms for implementing each of the $U_j$.\n",
    "\n",
    "One of the many practical uses of such a technique is as follows. Suppose that we wish to simulate the evolution under some Hamiltonian $H$ for time $t$ within a maximum error of some $\\epsilon > 0$ with the operator $U = e^{-iHt}$. Divide the time $t$ into $r$ equal time-segments of length $t/r$. For each segment, define the operator for time-evolution within that segment as follows:\n",
    "\\begin{align*}\n",
    "    U_r = e^{-iHt/r} \\approx \\sum_{j=0}^K \\frac1{j!} (-iHt/r)^j\n",
    "\\end{align*}\n",
    "\n",
    "Here, we wish to truncate the Taylor series expansion of the exponential at some order $K$ such that the maximum error for each segment is $\\epsilon/r$, which would imply that the maximum result across all the segments is $\\epsilon$. Assuming that $r > \\left|\\left| H \\right|\\right| t$ (where $\\left|\\left| \\cdot \\right|\\right|$ denotes the usual matrix norm), we see that we must have:\n",
    "\\begin{align*}\n",
    "    K &\\in \\mathcal{O}\\left( \\frac{\\log(r/\\epsilon)}{\\log(\\log(r/\\epsilon))} \\right)\n",
    "\\end{align*}"
   ]
  },
  {
   "cell_type": "markdown",
   "id": "626b236a",
   "metadata": {},
   "source": [
    "# Procedure\n",
    "\n",
    "Consider the Hamiltonian $H$ which acts over $n$ qubits. Let $N = 2^n$. Without loss of generality, we can assume that $H$ is Hermitian. Indeed, suppose that $H$ was not Hermitian. Then, we would define $\\tilde{H}$ such that:\n",
    "\\begin{align*}\n",
    "    \\tilde{H} &=\n",
    "    \\begin{bmatrix}\n",
    "        0 & H^\\dagger \\\\\n",
    "        H & 0\n",
    "    \\end{bmatrix}\n",
    "\\end{align*}\n",
    "Thus, $\\tilde{H}$ acts over $2n$ qubits, where the first $n$ qubits are ancillae. Furthermore, as is evident by the construction above, $\\tilde{H}$ is Hermitian, even though $H$ is not.\n",
    "\n",
    "Suppose that we have the decomposition $H = \\sum_{j=0}^{m-1} \\alpha_j U_j$ over $n$ qubits, where each of the $U_j$'s are unitary. We know that any arbitrary Hamiltonian can be expressed in such a form due to the fact that any element of the standard orthonormal basis can be expressed as a linear combination of such unitary operators (see Appendix for detailed proof).\n",
    "\n",
    "Let $s = \\sum_{k=0}^{m-1} \\alpha_k$. Moreover, without loss of generality, we can assume that $\\alpha_j > 0$ for all $j$. Indeed, suppose that there exists some $\\alpha_j < 0$: we can then replace the term $\\alpha_j U_j$ with the term $\\alpha^\\prime_j U^\\prime_j$, where $(\\alpha^\\prime_j, U^\\prime_j) = (-\\alpha_j, - U_j)$.\n",
    "\n",
    "Given $m$ unitaries in the expansion of $H$, we shall require $\\lceil\\log_2 {m}\\rceil$ qubits in the ancillary register, along with as many qubits as required by $H$ for the state register. We define two oracles: the Prepare oracle shall only act on the ancilla, while the Select operator shall act on both the ancillary and state registers.\n",
    "\n",
    "We define the $\\text{Prepare}$ oracle such that:\n",
    "\\begin{align*}\n",
    "    \\text{Prepare}\\left| 0 \\right\\rangle &= \\frac1{\\sqrt{s}} \\sum_{j=0}^{m-1} \\sqrt{\\alpha_j} \\left| j \\right\\rangle\n",
    "\\end{align*}\n",
    "We also define the $\\text{Select}$ oracle as follows:\n",
    "\\begin{align*}\n",
    "    \\text{Select}\\left| j \\right\\rangle \\left| \\psi \\right\\rangle &= \\left| j \\right\\rangle U_j \\left| \\psi \\right\\rangle\n",
    "\\end{align*}\n",
    "\n",
    "We thus define the operator $W$ as follows:\n",
    "\\begin{align*}\n",
    "    W &= (\\text{Prepare}^\\dagger\\otimes I_N) \\text{Select} (\\text{Prepare}\\otimes I_N)\n",
    "\\end{align*}\n",
    "Therefore, we see that:\n",
    "\\begin{align*}\n",
    "    W \\left| 0 \\right\\rangle \\left| \\psi \\right\\rangle &= (\\text{Prepare}^\\dagger\\otimes I_N) \\text{Select} (\\text{Prepare}\\otimes I_N) \\left| 0 \\right\\rangle \\left| \\psi \\right\\rangle \\\\\n",
    "    &= (\\text{Prepare}^\\dagger\\otimes I_N) \\text{Select} \\left( \\frac1{\\sqrt{s}} \\sum_{j=0}^{m-1} \\sqrt{\\alpha_j} \\left| j \\right\\rangle \\left| \\psi \\right\\rangle \\right) \\\\\n",
    "    &= (\\text{Prepare}^\\dagger\\otimes I_N) \\left( \\frac1{\\sqrt{s}} \\sum_{j=0}^{m-1} \\sqrt{\\alpha_j} \\left| j \\right\\rangle U_j \\left| \\psi \\right\\rangle \\right) \\\\\n",
    "    &= \\frac1{s} \\left| 0 \\right\\rangle H\\left| \\psi \\right\\rangle + \\sqrt{1-\\frac1{s^2}} \\left| \\phi \\right\\rangle\n",
    "\\end{align*}\n",
    "where $\\left| \\phi \\right\\rangle$ is some state whose ancillary component lies in a subspace orthogonal to $\\left| 0 \\right\\rangle$. Hence, if $P_0 = \\left| 0 \\right\\rangle \\left\\langle 0 \\right|\\otimes I_N$ is the projector onto the zero-subspace of the ancillary register, then we have that:\n",
    "\\begin{align*}\n",
    "    P_0W\\left| 0\\right\\rangle\\left| \\psi\\right\\rangle &= \\frac1{s} \\left| 0 \\right\\rangle H\\left| \\psi \\right\\rangle\n",
    "\\end{align*}\n",
    "This implies that if we measure the ancillary register after applying the $W$ operator to $\\left| 0 \\right\\rangle \\left| \\psi \\right\\rangle$ and we find that the ancillary qubits are all in the 0 state, then we trigger the succesful preparation in the state register, as desired.\n",
    "\n",
    "The quantum circuit for this procedure looks as shown below:\n",
    "\n",
    "TODO: ADD DIAGRAM"
   ]
  },
  {
   "cell_type": "markdown",
   "id": "45cfc766",
   "metadata": {},
   "source": [
    "To obtain an exact implementation of $H$, we can choose to use amplitude amplification at the end of this procedure.\n",
    "\n",
    "For more details about these equations, refer Appendix."
   ]
  },
  {
   "cell_type": "markdown",
   "id": "2f61ce1f",
   "metadata": {},
   "source": [
    "### Notes on procedure\n",
    "\n",
    "Notice that when $H$ can be written as a linear combination of $m$ unitary operators with all positive coefficients, then we need a total of $k = \\lceil \\log_2 m\\rceil$ ancillary qubits to implement the Prepare operator described in the above procedure. This is because we need enough qubits in the ancillary register to define a unique labeling for each unitary in the linear combination.\n",
    "\n",
    "Also note that the success probability of emulating $H$ by the above procedure is $\\frac1{s^2}$. This probability depends on the size of the ancilla and decreases exponentially in the number of qubits contained in the ancilla. We can apply the procedure of amplitude amplification (refer Appendix) to increase this probability up to 1. Ideally, if $s=2$, then this fits the procedure of oblivious amplitude amplification. However, since $H$ is not unitary itself, we need to slightly alter the approach of oblivious amplitude amplification that we use here.\n",
    "\n",
    "Firstly, define the $k$-dimensional ancillary reflection $R = I_N - 2 P_0$ about the zero-state of the ancillary register. Note that this operation is called a reflection because of the way that it operates with respect to elements in the zero state in the ancillary register. For instance, consider the $\\left|j\\right\\rangle$ for the ancillary register where $j\\neq0$ and define the state $\\left|\\phi\\right\\rangle = \\left|j\\right\\rangle \\left|\\psi\\right\\rangle$. Then, we have that:\n",
    "\\begin{align*}\n",
    "    R \\left|\\phi\\right\\rangle &= (I_k - 2 P_0) \\left|\\phi\\right\\rangle \\\\\n",
    "    &= I_k \\left|\\phi\\right\\rangle - 2 P_0 \\left|\\phi\\right\\rangle \\\\\n",
    "    &= \\left|\\phi\\right\\rangle - 0 \\\\\n",
    "    &= \\left|\\phi\\right\\rangle\n",
    "\\end{align*}\n",
    "However, now consider the state $\\left|0\\right\\rangle$ for the ancillary register, and consider $\\left|\\phi\\right\\rangle = \\left|0\\right\\rangle \\left|\\psi\\right\\rangle$. Then, we have that:\n",
    "\\begin{align*}\n",
    "    R \\left|\\phi\\right\\rangle &= (I_k - 2 P_0) \\left|\\phi\\right\\rangle \\\\\n",
    "    &= I_k \\left|\\phi\\right\\rangle - 2 P_0 \\left|\\phi\\right\\rangle \\\\\n",
    "    &= \\left|\\phi\\right\\rangle - 2 \\left|\\phi\\right\\rangle \\\\\n",
    "    &= - \\left|\\phi\\right\\rangle\n",
    "\\end{align*}\n",
    "\n",
    "Next, define the amplitude amplification operator $A = - WRW^\\dagger RW$.\n",
    "\n",
    "Recall the following facts. Firstly, note that $P_0^2 = P_0$ since $P_0$ is a projection operator and that $P_0 \\left| 0 \\right\\rangle \\left| \\psi \\right\\rangle = \\left| 0 \\right\\rangle\\left| \\psi \\right\\rangle$. Also note that, by definition, $W$ is a unitary operator. Moreover, recall our assumption that $H$ is Hermitian. Finally, by construction, we have that:\n",
    "\\begin{align*}\n",
    "    P_0 WP_0 &= \\frac1{s} (\\left| 0 \\right\\rangle\\left\\langle 0 \\right|\\otimes H)\n",
    "\\end{align*}\n",
    "\n",
    "Therefore, we observe that:\n",
    "\\begin{align*}\n",
    "    P_0 A\\left| 0 \\right\\rangle\\left| \\psi \\right\\rangle &= \\\\\n",
    "    &= \\left(\\frac3{s}-\\frac4{s^3}\\right) \\left| 0 \\right\\rangle H \\left| \\psi \\right\\rangle\n",
    "\\end{align*}"
   ]
  },
  {
   "cell_type": "markdown",
   "id": "5c562b01",
   "metadata": {},
   "source": [
    "### One qubit example"
   ]
  },
  {
   "cell_type": "markdown",
   "id": "2886e457",
   "metadata": {},
   "source": [
    "Suppse that we are given a Hamiltonian $H$ as follows:\n",
    "\\begin{align*}\n",
    "    H &=\n",
    "    \\begin{bmatrix}\n",
    "        0 & 0 \\\\\n",
    "        0 & 1\n",
    "    \\end{bmatrix}\n",
    "\\end{align*}\n",
    "Then, clearly, $H$ is non-unitary, since $HH^\\dagger\\neq I_2$. However, we can write $H = \\frac1{2} I - \\frac1{2} Z$, thus expressing $H$ as the sum of two unitary operations.\n",
    "\n",
    "TODO: Finish working through this example."
   ]
  },
  {
   "cell_type": "markdown",
   "id": "5cd9e47c",
   "metadata": {},
   "source": [
    "# Implementation of one qubit ancilla \n",
    "\n",
    "In this section, we wish to create an implementation of the LCU procedure using tequila.\n",
    "\n",
    "## Implementing Select operator\n",
    "\n",
    "We first need to define a subroutine to return the controlled version of the unitary. We do so by naturally translating the definition of the Select operator into Python, as follows. We first need to create a way of adding extra controls into each unitary operation, as required by the algorithm, since this is not a part of Tequila's built-in features at the moment. To do so, we construct the following function which returns a new circuit with additional control qubits."
   ]
  },
  {
   "cell_type": "code",
   "execution_count": 2,
   "id": "a558f99d",
   "metadata": {},
   "outputs": [],
   "source": [
    "def control_unitary(ancilla, unitary: tq.QCircuit) -> tq.QCircuit:\n",
    "    \"\"\"Return controlled version of unitary\n",
    "\n",
    "    SHOULD NOT mutate unitary\n",
    "\n",
    "    Preconditions:\n",
    "        - ancilla and unitary have no common qubits\n",
    "    \"\"\"\n",
    "    gates = unitary.gates\n",
    "    cgates = []\n",
    "    for gate in gates:\n",
    "        cgate = copy.deepcopy(gate)\n",
    "        if isinstance(ancilla, Iterable):\n",
    "            control_lst = list(cgate.control) + list(ancilla)\n",
    "        else:\n",
    "            control_lst = list(cgate.control) + [ancilla]\n",
    "        cgate._control = tuple(control_lst)\n",
    "        cgate.finalize()\n",
    "        cgates.append(cgate)\n",
    "\n",
    "    return tq.QCircuit(gates=cgates)"
   ]
  },
  {
   "cell_type": "markdown",
   "id": "1eb22ad8",
   "metadata": {},
   "source": [
    "The select oracle is naturally translated into code as follows."
   ]
  },
  {
   "cell_type": "code",
   "execution_count": 4,
   "id": "7640d8ae",
   "metadata": {},
   "outputs": [],
   "source": [
    "def select_1ancilla(ancillary, unitary_0: tq.QCircuit, unitary_1: tq.QCircuit) -> tq.QCircuit:\n",
    "    \"\"\"\n",
    "    Select operator, when the Hamiltonian can be expressed as the linear combination of two\n",
    "    unitary operators.\n",
    "    Requires only one ancillary qubit.\n",
    "\n",
    "    Returns the select oracle.\n",
    "    \"\"\"\n",
    "    impl_1 = control_unitary(ancilla=ancillary, unitary=unitary_1)\n",
    "    \n",
    "    x_gate = tq.gates.X(target=ancillary)\n",
    "    control = control_unitary(ancilla=ancillary, unitary=unitary_0)\n",
    "\n",
    "    impl_0 = x_gate + control + x_gate\n",
    "\n",
    "    return impl_1 + impl_0"
   ]
  },
  {
   "cell_type": "markdown",
   "id": "e8c49961",
   "metadata": {},
   "source": [
    "## Implementing Prepare operator\n",
    "\n",
    "Next, we implement the prepare oracle for the single-qubit ancilla case in the form of an $R_y$ rotation as follows.\n",
    "\n",
    "TODO: Add mathematical explanation for prepare_2unitary\n",
    "\n",
    "We are given the values of $\\alpha_0, \\alpha_1$ in the expansion, and we wish to create a circuit that can be expressed as follows:\n",
    "\\begin{align*}\n",
    "    \\mathrm{Prep} &=\n",
    "    \\begin{bmatrix}\n",
    "        \\sqrt{\\frac{\\alpha_0}{\\alpha_0 + \\alpha_1}} & \\sqrt{\\frac{\\alpha_1}{\\alpha_0 + \\alpha_1}} \\\\\n",
    "        x_0 & x_1\n",
    "    \\end{bmatrix}\n",
    "\\end{align*}\n",
    "Here, $x_0$ and $x_1$ denote unknown elements of the matrix with which we are not concerned about. This is because the $\\mathrm{Prep}$ circuit shall only ever be applied to the zero-state on the ancilla, and so, the mapping for the one-state of the ancilla is of no importance.\n",
    "\n",
    "Now, recall that the general form for a $R_y$ rotation of angle $\\theta$ is as follows:\n",
    "\\begin{align*}\n",
    "    R_y(\\theta) &=\n",
    "    \\begin{bmatrix}\n",
    "        \\cos(\\theta/2) & -\\sin(\\theta/2) \\\\\n",
    "        \\sin(\\theta/2) & \\cos(\\theta/2)\n",
    "    \\end{bmatrix}\n",
    "\\end{align*}\n",
    "Hence, if we wish to express the $\\mathrm{Prep}$ operator in the form of a $R_y$ rotation, we would hvae the following:\n",
    "\\begin{align*}\n",
    "    \\cos(\\theta/2) &= \\sqrt{\\frac{\\alpha_0}{\\alpha_0 + \\alpha_1}} \\\\\n",
    "    -\\sin(\\theta/2) &= \\sqrt{\\frac{\\alpha_1}{\\alpha_0 + \\alpha_1}}\n",
    "\\end{align*}\n",
    "This implies that:\n",
    "\\begin{align*}\n",
    "    \\theta &= -2 \\cdot \\arcsin\\left( \\sqrt{\\frac{\\alpha_1}{\\alpha_0 + \\alpha_1}} \\right)\n",
    "\\end{align*}\n",
    "\n",
    "Therefore, we now see that $\\mathrm{Prep} = R_y \\left( -2 \\cdot \\arcsin\\left( \\sqrt{\\frac{\\alpha_1}{\\alpha_0 + \\alpha_1}} \\right) \\right)$ and we can naturally translate this into Python as shown in the following cell."
   ]
  },
  {
   "cell_type": "code",
   "execution_count": 8,
   "id": "ac4f5251",
   "metadata": {},
   "outputs": [],
   "source": [
    "def prepare_1ancilla(ancillary, sum_of_unitaries: list[tuple[float, tq.QCircuit]]) -> tq.QCircuit:\n",
    "    \"\"\"\n",
    "    Prepare operator, when the Hamiltonian can be expressed as the linear combination of two\n",
    "    unitary operators.\n",
    "    Requires only one ancillary qubit.\n",
    "\n",
    "    Preconditions:\n",
    "        - alpha_0 > 0 and alpha_1 > 0\n",
    "    \"\"\"\n",
    "    alpha_0, alpha_1 = sum_of_unitaries[0][0], sum_of_unitaries[1][0]\n",
    "\n",
    "    theta = -2 * np.arcsin(np.sqrt(alpha_1 / (alpha_0 + alpha_1)))\n",
    "\n",
    "    return tq.gates.Ry(target=ancillary, angle=theta)"
   ]
  },
  {
   "cell_type": "code",
   "execution_count": 5,
   "id": "f5a2476d",
   "metadata": {},
   "outputs": [],
   "source": [
    "def lcu_1ancilla(unitaries: list[tuple[float, tq.QCircuit]]) -> tq.QCircuit:\n",
    "    \"\"\"Return the circuit (Prep)(Select)(Prep.dagger()) according to the LCU algorithm,\n",
    "    with 0 as the ancilla qubit.\n",
    "    \n",
    "    Preconditions:\n",
    "        - all(0 not in unitary.qubits() for unitary in [u[1] for u in unitaries])\n",
    "    \"\"\"\n",
    "    prepare = prepare_2unitary(0, unitaries)\n",
    "    circ = prepare + select_2unitary(0, unitaries[0][1], unitaries[1][1]) + prepare.dagger()\n",
    "    return circ"
   ]
  },
  {
   "cell_type": "markdown",
   "id": "6acc3449",
   "metadata": {},
   "source": [
    "### Notes on implementation\n",
    "\n",
    "Input, output as circuits. Advantage: independent of starting state, so if initial state can be efficiently prepared, then we can efficiently simulate Hamiltonian. Drawback: need to have the circuits for each unitary used prepared beforehand."
   ]
  },
  {
   "cell_type": "markdown",
   "id": "f846c058",
   "metadata": {},
   "source": [
    "### Example"
   ]
  },
  {
   "cell_type": "code",
   "execution_count": 11,
   "id": "cb255650",
   "metadata": {},
   "outputs": [],
   "source": [
    "def example_function() -> tq.QCircuit:\n",
    "    \"\"\"Test example for LCU with two unitary matrices\"\"\"\n",
    "    identity = tq.QCircuit()\n",
    "    unitaries = [(0.5, identity), (0.5, tq.gates.Z(1))]\n",
    "    return algorithm_2unitary(unitaries=unitaries)"
   ]
  },
  {
   "cell_type": "code",
   "execution_count": 12,
   "id": "b1b86a82",
   "metadata": {},
   "outputs": [
    {
     "data": {
      "text/html": [
       "<pre style=\"word-wrap: normal;white-space: pre;background: #fff0;line-height: 1.1;font-family: &quot;Courier New&quot;,Courier,monospace\">     ┌──────────┐   ┌───┐┌───┐┌─────────┐\n",
       "q_0: ┤ RY(-π/2) ├─■─┤ X ├┤ X ├┤ RY(π/2) ├\n",
       "     └──────────┘ │ └───┘└───┘└─────────┘\n",
       "q_1: ─────────────■──────────────────────\n",
       "                                         \n",
       "c: 2/════════════════════════════════════\n",
       "                                         </pre>"
      ],
      "text/plain": [
       "     ┌──────────┐   ┌───┐┌───┐┌─────────┐\n",
       "q_0: ┤ RY(-π/2) ├─■─┤ X ├┤ X ├┤ RY(π/2) ├\n",
       "     └──────────┘ │ └───┘└───┘└─────────┘\n",
       "q_1: ─────────────■──────────────────────\n",
       "                                         \n",
       "c: 2/════════════════════════════════════\n",
       "                                         "
      ]
     },
     "execution_count": 12,
     "metadata": {},
     "output_type": "execute_result"
    }
   ],
   "source": [
    "result = example_function()\n",
    "tq.draw(result, backend='qiskit')"
   ]
  },
  {
   "cell_type": "markdown",
   "id": "6ebd96f8",
   "metadata": {},
   "source": [
    "# Amplitude amplification\n",
    "\n",
    "TODO"
   ]
  },
  {
   "cell_type": "code",
   "execution_count": null,
   "id": "f437aad8",
   "metadata": {},
   "outputs": [],
   "source": []
  },
  {
   "cell_type": "code",
   "execution_count": null,
   "id": "3ee34003",
   "metadata": {},
   "outputs": [],
   "source": []
  },
  {
   "cell_type": "code",
   "execution_count": null,
   "id": "4b44f17c",
   "metadata": {},
   "outputs": [],
   "source": []
  },
  {
   "cell_type": "markdown",
   "id": "a71dfacd",
   "metadata": {},
   "source": [
    "# Testing\n",
    "\n",
    "As always, it is a good principle to always test out the functions and ensure that they work for all cases, including any possible edge cases that might exist. To do so, often the best way is to create randomized testing functions and repeatedly run the algorithm on such randomized examples to be confident that the algorithm works for any given case.\n",
    "\n",
    "TODO: Property-based testing"
   ]
  },
  {
   "cell_type": "code",
   "execution_count": null,
   "id": "4ecaeecc",
   "metadata": {},
   "outputs": [],
   "source": []
  },
  {
   "cell_type": "code",
   "execution_count": null,
   "id": "f5dd2043",
   "metadata": {},
   "outputs": [],
   "source": []
  },
  {
   "cell_type": "code",
   "execution_count": null,
   "id": "9fa15c3e",
   "metadata": {},
   "outputs": [],
   "source": []
  },
  {
   "cell_type": "markdown",
   "id": "6c7ab08e",
   "metadata": {},
   "source": [
    "# Next steps: 3 or 4 unitaries (2 ancillae), and then, m unitaries"
   ]
  }
 ],
 "metadata": {
  "kernelspec": {
   "display_name": "Python 3",
   "language": "python",
   "name": "python3"
  },
  "language_info": {
   "codemirror_mode": {
    "name": "ipython",
    "version": 3
   },
   "file_extension": ".py",
   "mimetype": "text/x-python",
   "name": "python",
   "nbconvert_exporter": "python",
   "pygments_lexer": "ipython3",
   "version": "3.9.1"
  }
 },
 "nbformat": 4,
 "nbformat_minor": 5
}
