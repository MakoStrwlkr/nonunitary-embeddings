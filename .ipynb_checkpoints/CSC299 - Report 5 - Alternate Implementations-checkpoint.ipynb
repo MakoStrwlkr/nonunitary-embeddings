{
 "cells": [
  {
   "cell_type": "code",
   "execution_count": 2,
   "id": "c303d38d",
   "metadata": {},
   "outputs": [],
   "source": [
    "import tequila as tq"
   ]
  },
  {
   "cell_type": "markdown",
   "id": "a0fbf883",
   "metadata": {},
   "source": [
    "# Introduction\n",
    "\n",
    "In Reports 1 through 3, we used certain techniques to implement the block-encoding of the LCU algorithm in Python. For example, in reports 2 and 3, we used a variational approach to construct the appropriate circuit for the $\\mathrm{Prepare}$ operator, and we used a binary encoding to construct the $\\mathrm{Select}$ operator, and so on.\n",
    "\n",
    "This report focuses on alternate implementatiosn for this algorithm. Much of the content in this report is based on analyzing the drawbacks of the way in which the current implementation works, and comparing it with potential improvements resulting from other options of implementation. For instance, we look at exchanging the binary encoding of the ancilla registers in the original implementation with a unary embedding, and we also look at how we could have used non-variational algorithms for the necessary state preparation and the resulting tradeoffs."
   ]
  },
  {
   "cell_type": "markdown",
   "id": "f92abc60",
   "metadata": {},
   "source": [
    "# Potential speed-up in current approach\n",
    "\n",
    "In this section, we look at certain ways in which we could have improved upon the current implementation of the $\\mathrm{Prepare}$ operator, in the function prepare\\_operator from Report 3. All the suggestions in this section still revolve around using variational algorithms, and offer a speed-up as compared to the current implementation in the average case; this implies that, on average, the functions would be faster, but there is no guarantee of a speed-up in any particular example.\n",
    "\n",
    "## Commuting cliques in Trotterization\n",
    "\n",
    "The reason we consider this feature is because when Pauli-strings commute, we can reduce the number of steps involved in the optimization. The process of doing so is explained in detail in the paper by Verteletskyi, Yen, Izmaylov (2020) as follows. Consider a qubit Hamilonian $H$ which is expressed as follows:\n",
    "\\begin{align*}\n",
    "    H &= \\sum_{j=1}^k c_j P_j\n",
    "\\end{align*}\n",
    "Here, the $c_j$ are some numerical constants and the $P_j$ refer to Pauli-strings, i.e. some products of the Pauli operators, $P_j = \\prod_{i=1}^N \\sigma_i^{(j)}$. As shown in the paper, we can rewrite $H$ as:\n",
    "\\begin{align*}\n",
    "    H &= \\sum_{n=1}^\\ell A_n\n",
    "\\end{align*}\n",
    "Here, the $A_n$ denote the \"commuting cliques\" in the expansion of $H$ as a sum of Pauli-strings. In other words, any Pauli-string in a particular commutes with all other Pauli-string in that same clique. If $C_n$ denotes the $n$-th clique, corresponding to $A_n$, we can express this as follows.\n",
    "\\begin{align*}\n",
    "    A_n &= \\sum_{j\\in C_n} c_j P_j \\\\\n",
    "    [P_i, P_j] &= 0 \\tag{$\\forall i, j \\in C_n$}\n",
    "\\end{align*}\n",
    "\n",
    "In the original paper, expressing $H$ in such a form was used to be able to measure all Pauli-string in $A_n$ using only one set of single-qubit measurements, and thus removing the need for multi-qubit measurements. However, we are not concerned with optimizing the measurement of these groupings, but rather, we use it to reduce the number of groupings we have to consider in the Trotterization step.\n",
    "\n",
    "Reference used: https://arxiv.org/pdf/1907.03358.pdf\n",
    "\n",
    "### Implementing in code\n",
    "\n",
    "This method of optimizing measurements has already been implemented in Tequila, and can be used by setting the parameter of \"optimize\\_measurements\" in the ExpectationValue method to True. This is carried forth after we have defined our generator in the current implementation of the function \"prepare\\_operator\", as shown in the code below.\n",
    "\n",
    "The variable \n",
    "\n",
    "### Uses\n",
    "\n",
    "By considering each clique as a single block, we can reduce the number of blocks in the Trotterization, by reducing the number of possibilities of arranging the blocks in the Trotter expansion. However, we also need to compute small basis transformations which ensure that each of the blocks are diagonalized."
   ]
  },
  {
   "cell_type": "code",
   "execution_count": 3,
   "id": "157b74e8",
   "metadata": {},
   "outputs": [],
   "source": [
    "# The following code is taken from the body of the function prepare_operator.\n",
    "def prepare_operator(ancilla, unitaries):\n",
    "    m = len(ancilla)\n",
    "\n",
    "    # Define required state\n",
    "    coefficients = [unit[0] for unit in unitaries]\n",
    "    normalize = sqrt(sum(coefficients))\n",
    "\n",
    "    coefficients = [sqrt(coeff) / normalize for coeff in coefficients]\n",
    "\n",
    "    if len(coefficients) < 2 ** m:\n",
    "        extension = [0 for _ in range(2 ** m - len(coefficients) + 1)]\n",
    "        coefficients.extend(extension)\n",
    "\n",
    "    wfn_target = tq.QubitWaveFunction.from_array(asarray(coefficients)).normalize()\n",
    "\n",
    "    # Define zero state\n",
    "\n",
    "    zero_state_coeff = [1.0] + [0 for _ in range(len(coefficients) - 1)]\n",
    "    zero_state = tq.QubitWaveFunction.from_array(asarray(zero_state_coeff))\n",
    "\n",
    "    # Define generators\n",
    "    generator_1 = tq.paulis.KetBra(bra=wfn_target, ket=zero_state.normalize())\n",
    "    generator_2 = tq.paulis.KetBra(ket=wfn_target, bra=zero_state.normalize())\n",
    "\n",
    "    g = 1.0j * (generator_1 - generator_2)\n",
    "\n",
    "    # Use measurement optimization to find commuting cliques\n",
    "    expval = tq.ExpectationValue(H=g, U=tq.QCircuit(), optimize_measurements=True)\n",
    "    commuting_groups = expval.count_expectationvalues()\n",
    "    \n",
    "    # The rest of the code in the function is unchanged.\n",
    "    ..."
   ]
  },
  {
   "cell_type": "markdown",
   "id": "521d9a2a",
   "metadata": {},
   "source": [
    "### Testing for speed-up\n",
    "\n",
    "As is the case with such changes, we must test whether implementing this feature indeed results in any change in the runtime of our function. Now, since it is often complicated to construct a running-time analysis for variational quantum algorithms, such as the minimization function we used as a submodule, we shall make do with simply observing the \n",
    "\n",
    "TODO\n",
    "\n",
    "## Approximations to gradient computation and other parameters in minimization\n",
    "\n",
    "TODO"
   ]
  },
  {
   "cell_type": "markdown",
   "id": "96793c5f",
   "metadata": {},
   "source": [
    "# Non-variational approach to Prepare operator\n",
    "\n",
    "In this section, we look at alternative implementations of the Prepare operator which do not use a avriational approach, The advantage of such implementations lies in the fact that variational algorithms are difficult to analyze, and also the fact that the running time of the current implementation scales exponentially with the number of steps used in the Trotterization.\n",
    "\n",
    "With a non-variational approach, we hope that we can arrive at a program that still satisfies all our postconditions with an acceptable level of error, while also allowing for relatively easier running time analysis. This will allow us to identify parts of the code which can then be further optimized, to improve efficiency.\n",
    "\n",
    "## Black-box quantum state preparation\n",
    "\n",
    "We first look at some recent work by Sanders, Low, Scherer and Berry (2020) that focuses on the problem of state preparation. The main goal of the algorithm presented in their paper is to almost identical to the goal of implementing the $\\mathrm{Prepare}$ operator for our case.\n",
    "\n",
    "The paper we refer to considers how to construct a state with a linear relation of the coefficients of the target state with the target input vector, as well as a square-root relation. Furthermore, they extend their algorithm to also account for the possibility of complex numbers as elements of the target input vector.\n",
    "\n",
    "However, for our problem, we are only concerned with the case of square-root relation with the coefficients with only real (and positive) values, so that simplifies the work we have to do.\n",
    "\n",
    "The algorithm presented in the paper is as follows.\n",
    "\n",
    "TODO\n",
    "\n",
    "Reference: https://arxiv.org/abs/1807.03206v2\n",
    "\n",
    "## Two-level universal quantum gates\n",
    "\n",
    "TODO\n",
    "\n",
    "Reference: Nielsen and Chuang"
   ]
  },
  {
   "cell_type": "markdown",
   "id": "904b9c1f",
   "metadata": {},
   "source": [
    "# Different encoding of qubits\n",
    "\n",
    "In this section, we look at how using different types of encoding for the qubits could affect the efficiency of our program. In particular, we focus at improving the $\\mathrm{Select}$ operator and seek to find a way which could deterministically reduce the number of gates and/or the number of qubits required for the ancillary register.\n",
    "\n",
    "## Analysis of current implementation\n",
    "\n",
    "Firstly, we shall take a look at how our current implementation works. Recall how we used a conventional binary encoding while implementing the $\\mathrm{Select}$ operator and how we used X gates before and after each application of a controlled unitary application (with the ancilla as controls) as needed. In the best case, we did not need to apply any X gate to the particular qubit since the unitary was supposed to be active if that qubit was 1. Similarly, in the worse case, we needed to apply two X gates if the unitary was meant to be active with the qubit being in 0 state.\n",
    "\n",
    "It is easy to see that such an approach requires us to have $m = \\log_2(k) \\in \\mathcal{O}(\\log(k))$ qubits in the ancilla register if we are given a total of $k$ unitary operations in the linear combination.\n",
    "\n",
    "For the simplicity of analysis, suppose that we had $k_m = 2^m$ unitaries to consider in implementing this operation, where $m$ denotes the number of ancilla qubits. It is fairly straightforward to extend this analysis to an arbitrary number of unitaries. Denote by $T(k_m)$ the number of X gates used in implementing the controlled version of all of the unitaries. For $m=1$, we have that $T(k_1) = 2$. We also notice that, for $m>1$, we have that:\n",
    "\\begin{align*}\n",
    "    T(k_m) &= T(k_{m-1}) + 2 (m - 1) + T(k_{m-1}) \\\\\n",
    "    &= 2 (T(k_{m-1}) + m - 1)\n",
    "\\end{align*}\n",
    "\n",
    "By using the Master Theorem of solving recurrences, we conclude that $T(k_{m-1}) \\in \\mathcal{O}(m \\log(m))$. We note that this does not seem an ideal result, which raises the question: can we do better? We attempt to find out in this section.\n",
    "\n",
    "## Unary encoding\n",
    "\n",
    "A natural response might be to simply switch over to a unary encoding of the ancillary qubits instead. This would entail using one qubit to correspond to one unitary operator in the given linear combination of $k$ unitaries. As such, we would only need $\\mathcal{O}(1)$ X gates in this step which is a large improvement. However, this comes at an increased cost of needing $m = k \\in \\mathcal{O}(k)$ ancilla qubits, which is not particularly desirable, especially with the limitations of current devices.\n",
    "\n",
    "## Gray-code encoding\n",
    "\n",
    "We then look at using a gray-code encoding for the operation we are trying to implement. Recall that the gray-code system, which is sometimes referred to as the reflected binary code, is a well-defined ordering of the binary system in a way such that every two successive numbers differ in exactly one location.\n",
    "\n",
    "Note that, since this is still a type of binary encoding, the number of qubits needed in the ancilla register remains unchanged from the conventional binary encoding we have currently used.\n",
    "\n",
    "Furthermore, supposing that each of the unitaries is mapped to some binary value in gray-code, this implies that we need a maximum of 2 X gates between each controlled unitary operation. Hence, the total number of X gates needed with this encoding is in $\\mathcal{O}(m)$, which is an appreciable speed-up without any apparent disadvantages.\n",
    "\n",
    "Thus, this demonstrates a feasible optimization of our code assuming that we can create a submodule to automatize the construction of the gray-code encoding."
   ]
  },
  {
   "cell_type": "markdown",
   "id": "a3e5ccd8",
   "metadata": {},
   "source": [
    "# References\n",
    "\n",
    "TODO"
   ]
  }
 ],
 "metadata": {
  "kernelspec": {
   "display_name": "Python 3",
   "language": "python",
   "name": "python3"
  },
  "language_info": {
   "codemirror_mode": {
    "name": "ipython",
    "version": 3
   },
   "file_extension": ".py",
   "mimetype": "text/x-python",
   "name": "python",
   "nbconvert_exporter": "python",
   "pygments_lexer": "ipython3",
   "version": "3.9.1"
  }
 },
 "nbformat": 4,
 "nbformat_minor": 5
}
