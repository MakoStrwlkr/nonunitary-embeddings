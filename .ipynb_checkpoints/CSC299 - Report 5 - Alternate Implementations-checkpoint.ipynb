{
 "cells": [
  {
   "cell_type": "code",
   "execution_count": 2,
   "id": "a0c2da56",
   "metadata": {},
   "outputs": [],
   "source": [
    "import tequila as tq"
   ]
  },
  {
   "cell_type": "markdown",
   "id": "a0fbf883",
   "metadata": {},
   "source": [
    "# Introduction\n",
    "\n",
    "In Reports 1 through 3, we used certain techniques to implement the block-encoding of the LCU algorithm in Python. For example, in reports 2 and 3, we used a variational approach to construct the appropriate circuit for the $\\mathrm{Prepare}$ operator, and we used a binary encoding to construct the $\\mathrm{Select}$ operator, and so on.\n",
    "\n",
    "This report focuses on alternate implementatiosn for this algorithm. Much of the content in this report is based on analyzing the drawbacks of the way in which the current implementation works, and comparing it with potential improvements resulting from other options of implementation. For instance, we look at exchanging the binary encoding of the ancilla registers in the original implementation with a unary embedding, and we also look at how we could have used non-variational algorithms for the necessary state preparation and the resulting tradeoffs.\n",
    "\n",
    "# Goals of this report\n",
    "\n",
    "TODO"
   ]
  },
  {
   "cell_type": "markdown",
   "id": "743960f1",
   "metadata": {},
   "source": [
    "# Potential speed-up in current approach\n",
    "\n",
    "In this section, we look at certain ways in which we could have improved upon the current implementation of the $\\mathrm{Prepare}$ operator, in the function prepare\\_operator from Report 3. All the suggestions in this section still revolve around using variational algorithms, and offer a speed-up as compared to the current implementation in the average case; this implies that, on average, the functions would be faster, but there is no guarantee of a speed-up in any particular example.\n",
    "\n",
    "## Commuting cliques in Trotterization\n",
    "\n",
    "The reason we consider this feature is because when Pauli-strings commute, we can reduce the number of steps involved in the optimization. The process of doing so is explained in detail in the paper by Verteletskyi, Yen, Izmaylov (2020) as follows. Consider a qubit Hamilonian $H$ which is expressed as follows:\n",
    "\\begin{align*}\n",
    "    H &= \\sum_{j=1}^k c_j P_j\n",
    "\\end{align*}\n",
    "Here, the $c_j$ are some numerical constants and the $P_j$ refer to Pauli-strings, i.e. some products of the Pauli operators, $P_j = \\prod_{i=1}^N \\sigma_i^{(j)}$. As shown in the paper, we can rewrite $H$ as:\n",
    "\\begin{align*}\n",
    "    H &= \\sum_{n=1}^\\ell A_n\n",
    "\\end{align*}\n",
    "Here, the $A_n$ denote the \"commuting cliques\" in the expansion of $H$ as a sum of Pauli-strings. In other words, any Pauli-string in a particular commutes with all other Pauli-string in that same clique. If $C_n$ denotes the $n$-th clique, corresponding to $A_n$, we can express this as follows.\n",
    "\\begin{align*}\n",
    "    A_n &= \\sum_{j\\in C_n} c_j P_j \\\\\n",
    "    [P_i, P_j] &= 0 \\tag{$\\forall i, j \\in C_n$}\n",
    "\\end{align*}\n",
    "\n",
    "Expressing $H$ in such a form, we are able to measure all Pauli-string in $A_n$ using only one set of single-qubit measurements, and thus removing the need for multi-qubit measurements.\n",
    "\n",
    "Reference used: https://arxiv.org/pdf/1907.03358.pdf\n",
    "\n",
    "### Implementing in code\n",
    "\n",
    "This method of optimizing measurements has already been implemented in Tequila, and can be used by setting the parameter of \"optimize\\_measurements\" in the ExpectationValue method to True. This is carried forth after we have defined our generator in the current implementation of the function \"prepare\\_operator\", as shown in the code below.\n",
    "\n",
    "The variable \n",
    "\n",
    "### Uses\n",
    "\n",
    "By considering each clique as a single block, we can reduce the number of blocks in the Trotterization, by reducing the number of possibilities of arranging the blocks in the Trotter expansion. However, we also need to compute small basis transformations which ensure that each of the blocks are diagonalized."
   ]
  },
  {
   "cell_type": "code",
   "execution_count": 3,
   "id": "9d03ec74",
   "metadata": {},
   "outputs": [],
   "source": [
    "# The following code is taken from the body of the function prepare_operator.\n",
    "def prepare_operator(ancilla, unitaries):\n",
    "    m = len(ancilla)\n",
    "\n",
    "    # Define required state\n",
    "    coefficients = [unit[0] for unit in unitaries]\n",
    "    normalize = sqrt(sum(coefficients))\n",
    "\n",
    "    coefficients = [sqrt(coeff) / normalize for coeff in coefficients]\n",
    "\n",
    "    if len(coefficients) < 2 ** m:\n",
    "        extension = [0 for _ in range(2 ** m - len(coefficients) + 1)]\n",
    "        coefficients.extend(extension)\n",
    "\n",
    "    wfn_target = tq.QubitWaveFunction.from_array(asarray(coefficients)).normalize()\n",
    "\n",
    "    # Define zero state\n",
    "\n",
    "    zero_state_coeff = [1.0] + [0 for _ in range(len(coefficients) - 1)]\n",
    "    zero_state = tq.QubitWaveFunction.from_array(asarray(zero_state_coeff))\n",
    "\n",
    "    # Define generators\n",
    "    generator_1 = tq.paulis.KetBra(bra=wfn_target, ket=zero_state.normalize())\n",
    "    generator_2 = tq.paulis.KetBra(ket=wfn_target, bra=zero_state.normalize())\n",
    "\n",
    "    g = 1.0j * (generator_1 - generator_2)\n",
    "\n",
    "    # Use measurement optimization to find commuting cliques\n",
    "    expval = tq.ExpectationValue(H=g, U=tq.QCircuit(), optimize_measurements=True)\n",
    "    commuting_groups = expval.count_expectationvalues()\n",
    "    \n",
    "    # The rest of the code in the function is unchanged.\n",
    "    ..."
   ]
  },
  {
   "cell_type": "markdown",
   "id": "fc54fe8b",
   "metadata": {},
   "source": [
    "## Approximations to gradient computation\n",
    "\n",
    "TODO"
   ]
  },
  {
   "cell_type": "markdown",
   "id": "500ae594",
   "metadata": {},
   "source": [
    "# Non-variational approach to Prepare operator\n",
    "\n",
    "## Black-box quantum state preparation\n",
    "\n",
    "Reference: https://arxiv.org/abs/1807.03206v2\n",
    "\n",
    "## Two-level universal quantum gates\n",
    "\n",
    "Reference: Nielsen and Chuang"
   ]
  },
  {
   "cell_type": "markdown",
   "id": "c5351028",
   "metadata": {},
   "source": [
    "# Different encoding of qubits\n",
    "\n",
    "In this section, we look at how using different types of encoding for the qubits could affect the efficiency of our program.\n",
    "\n",
    "## Unary encoding\n",
    "\n",
    "TODO\n",
    "\n",
    "Advantage: fewer gates required\n",
    "Disadvantage: linear scaling in number of qubits required\n",
    "\n",
    "## Gray-code encoding\n",
    "\n",
    "TODO\n",
    "\n",
    "Advantage: fewer X gates required."
   ]
  },
  {
   "cell_type": "markdown",
   "id": "ae40f5bf",
   "metadata": {},
   "source": [
    "# References\n",
    "TODO"
   ]
  }
 ],
 "metadata": {
  "kernelspec": {
   "display_name": "Python 3",
   "language": "python",
   "name": "python3"
  },
  "language_info": {
   "codemirror_mode": {
    "name": "ipython",
    "version": 3
   },
   "file_extension": ".py",
   "mimetype": "text/x-python",
   "name": "python",
   "nbconvert_exporter": "python",
   "pygments_lexer": "ipython3",
   "version": "3.9.1"
  }
 },
 "nbformat": 4,
 "nbformat_minor": 5
}
