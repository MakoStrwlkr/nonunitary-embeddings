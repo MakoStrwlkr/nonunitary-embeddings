{
 "cells": [
  {
   "cell_type": "code",
   "execution_count": 5,
   "id": "c60cca7c",
   "metadata": {},
   "outputs": [],
   "source": [
    "import tequila as tq\n",
    "from typing import Union\n",
    "from lcu_v1 import LCU\n",
    "from numpy import pi"
   ]
  },
  {
   "cell_type": "markdown",
   "id": "b65a3340",
   "metadata": {},
   "source": [
    "# Introduction\n",
    "\n",
    "In this report, we focus on several practical applications of the LCU algorithm, which we have discussed in Reports 1 through 3. While we will not be delving into the exact details of the code to the extent that was seen in the previous reports, we hope that the use of the LCU class, as introduced in Report 3, shall prove to be a helpful abstraction into implementing the following applications.\n",
    "\n",
    "As an additional disclaimer, the applications discussed here claim no result for optimality, and there have been multiple algorithms which prove to be more efficient than applying the LCU method. However, with such a wide range of applications, we wish to show proof-of-concept that the LCU algorithm comes with helpful generalizations which can be used to abstract away some of the technicalities involved in defining circuits for certain operations.\n",
    "\n",
    "# Motivation\n",
    "\n",
    "To motivate finding some applications for the LCU method, we first look at some of the properties of this method.\n",
    "\n",
    "Firstly, note that the success of our functions is guaranteed independent of the initial state when the operator that we are trying to implement is unitary. Otherwise, the success probability is 1 in the best case, but is still dependent on the initial state taken. However, this is not as bad a limitation as it seems like, because many common operations are unitary and this still provides useful insights into their implementation.\n",
    "\n",
    "We can essentially view the LCU algorithm as a form of block-encoding an operator within another operator that acts on a greater number of qubits. Thus, by doing so, we can generalize the LCU framework to be generally applicable in any context where post-selection is used to define success of the algorithm. Furthermore, in instances of quantum computing where it is feasible to define an operation of the form $\\tau: \\left|j \\right\\rangle \\to \\left|j \\right\\rangle$ or any other bijective operation on the state space, we can even generalize the post-selection for the LCU where success is defined on measuring some particular state $\\left| \\psi \\right\\rangle = \\tau ( \\left| 0 \\right\\rangle )$.\n",
    "\n",
    "We now look at a few examples of this."
   ]
  },
  {
   "cell_type": "markdown",
   "id": "5e34234c",
   "metadata": {},
   "source": [
    "# Application 1: Implementing powers of operators\n",
    "\n",
    "## Introduction and problem setting\n",
    "\n",
    "Often, implementing some Hamiltonian, $H$, for some type of physical systems is not particularly scaleable due to having a large polynomial complexity, or worse. As such, implementing powers of $H$, say $H^k$ where $k\\in\\mathbb{N}$, further worsens this complexity. For instance, suppose that implementing $H$ requires a total of $N$ terms where $N$ is some expression in terms of the input; then, implementing $H^k$ will require $N^k$ terms, which scales exponentially with the power required.\n",
    "\n",
    "For this problem, it suffices to consider implementing $H^2$ instead of $H^k$ for some general $k$, since the extension is fairly straightforward.\n",
    "\n",
    "## Applying LCU\n",
    "\n",
    "Note that, using the LCU method, we can simply place two of the LCU blocks for $H$ to approximate the effect of $H^2$.\n",
    "\n",
    "The success probability of doing so relies on measuring the ancilla for both LCU blocks in the zero state. For the first LCU block, after going through the amplitude amplification routine, will be approximately $\\left|\\left| H \\left| \\psi \\right\\rangle \\right| \\right| ^2$, where $\\left| \\psi \\right\\rangle$ was the initial state. Similarly, the success probability for the second LCU block will be $\\left|\\left| H^2 \\left| \\psi \\right\\rangle \\right| \\right| ^2$.\n",
    "\n",
    "Combining the two LCU blocks, we see that the success probability of such an implementation of $H^2$ is $\\left|\\left| H \\left| \\psi \\right\\rangle \\right| \\right| ^2 \\cdot \\left|\\left| H^2 \\left| \\psi \\right\\rangle \\right| \\right| ^2$.\n",
    "\n",
    "More generally, with some initial state $\\left| \\psi \\right\\rangle$, the success probability of such an implementation of $H^k$, for any $k\\in\\mathbb{N}$ will be $\\prod_{j=1}^k \\left|\\left| H^k \\left| \\psi \\right\\rangle \\right| \\right| ^2$.\n",
    "\n",
    "### Note on reusing ancilla qubits\n",
    "\n",
    "For the general case, we cannot use the ancilla qubits in more than one LCU block in the above implementation. This is because we are unable to deterministically improve the success probability of the LCU method to 1, and so, there remains some non-negligible probability that the ancilla is not in the zero-state as required. Therefore, reusing ancilla qubits in such a generalized implementation introduces certain dependencies of the later LCU blocks on the earlier blocks, which worsens our overall success probability.\n",
    "\n",
    "Hence, to implement $H^k$, where $H$ is written as a linear combination of $m$ unitary operations, we shall require $\\mathcal{O}(\\log m)$ ancilla qubits for each LCU block, for a total of $k$ LCU blocks. Thus, the total number of ancilla qubits required for such an implementation is in $\\mathcal{O}(k \\log m)$.\n",
    "\n",
    "However, now suppose that $H$ itself is unitary, or is at least 'close' to being unitary in the sense that there exists some unitary $U$ and some small $\\epsilon > 0$ such that $\\left| \\left| H - U \\right| \\right| < \\epsilon$. Then, we are guaranteed success through the oblivious amplitude amplification procedure at the end of each LCU block. This implies that, after measuring, the probability of the ancilla not being in the zero state is very negligible and thus, we can resuse the ancilla qubits repeatedly. Hence, the number of ancilla qubits in such a case is in $\\mathcal{O}(\\log m)$.\n",
    "\n",
    "Note that the same analysis holds true for the process of amplitude amplification that was mentioned in Report 1.\n",
    "\n",
    "## Implementing in code\n",
    "\n",
    "We use a qubit mapping for the ancilla used for each LCU block as demonstrated below. The advantage of doing this is so that "
   ]
  },
  {
   "cell_type": "code",
   "execution_count": 4,
   "id": "f7e2c575",
   "metadata": {},
   "outputs": [],
   "source": [
    "def ham_power(ancilla: list[Union[list[Union[str, int]]]],\n",
    "              unitaries: list[tuple[float, tq.QCircuit]], power: int) -> tq.QCircuit:\n",
    "    \"\"\"Return the circuit corresponding to H^k, where H is the Hamiltonian corresponding to\n",
    "    the linear combination expressed in unitaries, and k = power.\n",
    "\n",
    "    Preconditions:\n",
    "        - len(ancilla) == power\n",
    "        - all(2 ** (len(anc) - 1) < len(unitaries) <= 2 ** len(anc) for anc in ancilla)\n",
    "        - ancilla has no repeated qubits\n",
    "    \"\"\"\n",
    "    circ = tq.QCircuit()\n",
    "    anc0 = ancilla[0]\n",
    "    lcu = LCU(anc0, unitaries).full_circuit\n",
    "\n",
    "    for i in range(power):\n",
    "        anc = ancilla[i]\n",
    "        qubit_map = {anc0[k]: anc[k] for k in range(len(anc0))}\n",
    "        lcu = lcu.map_qubits(qubit_map)\n",
    "        circ += lcu\n",
    "\n",
    "    return circ"
   ]
  },
  {
   "cell_type": "markdown",
   "id": "ed0b027c",
   "metadata": {},
   "source": [
    "## Uses and extensions\n",
    "\n",
    "The major advantage of using the LCU for this purpose was that the number of terms in implementing powers of $H$ can now scale linearly with the respective power.\n",
    "\n",
    "One natural extension of this technique is to consider implementing some arbitrary polynomial $P$ of $H$ with real coefficients $\\alpha_j \\in \\amthbb{R}$ and degree $n\\in\\mathbb{N}$, $P = \\sum_{j=0}^n \\alpha_j H^j$. We have previously seen how to implement each of the $H^j$ using the block-encoding algorithm as a subroutine.\n",
    "\n",
    "Since we have shown how to compute each of the powers using LCU blocks, instead of naively considering those blocks as separate circuits, we can even include an additional register which determines when to fire off a LCU block for $H$ or when to fire off an empty Tequila QCircuit to be added to the unitary corresponding to the respective power. Such an implementation would greatly reduce the number of ancillary qubits involved in the process, and further aid in automatizing this technique.\n",
    "\n",
    "Potential further applications of such techniques also include computing expectation values and excited state optimization."
   ]
  },
  {
   "cell_type": "markdown",
   "id": "29a19b1e",
   "metadata": {},
   "source": [
    "# Application 2: Time evolution using truncated Taylor series\n",
    "\n",
    "## Introduction\n",
    "\n",
    "We have already shown, in application 1, that it is possible to implement any polynomial with real coeffisients in $H$ of finite degree $n$. If we can generalize this concept to arbitrary \n",
    "\n",
    "Now, suppose that we wish to simulate the evolution under some Hamiltonian $H$ for time $t$ within a maximum error of some $\\epsilon > 0$ with the operator $U = e^{-iHt}$. For this example, we further make the assumption that $H$ is unitary.\n",
    "\n",
    "Divide the time $t$ into $r$ equal time-segments of length $t/r$. Further suppose that we can write $H$ as a linear combination $H = \\sum_{j=0}^m \\alpha_j H_j$, where each $H_j$ is unitary and $\\alpha_j > 0$ for all $j$. For each segment, define the operator for time-evolution within that segment as follows:\n",
    "\\begin{align*}\n",
    "    U_r = e^{-iHt/r} \\approx \\sum_{j=0}^K \\frac1{j!} (-iHt/r)^j\n",
    "\\end{align*}\n",
    "\n",
    "Here, we wish to truncate the Taylor series expansion of the exponential at some order $K$ such that the maximum error for each segment is $\\epsilon/r$, which would imply that the maximum result across all the segments is $\\epsilon$. Assuming that $r > \\left|\\left| H \\right|\\right| t$ (where $\\left|\\left| \\cdot \\right|\\right|$ denotes the usual matrix norm), it has been shown by Berry, Childs, Cleve, Kothari, Somma (2015) that we must have:\n",
    "\\begin{align*}\n",
    "    K &\\in \\mathcal{O}\\left( \\frac{\\log(r/\\epsilon)}{\\log(\\log(r/\\epsilon))} \\right)\n",
    "\\end{align*}\n",
    "\n",
    "Therefore, we have that:\n",
    "\\begin{align*}\n",
    "    U &= e^{-iHt} \\\\\n",
    "    &= \\prod_{j=0}^{r-1} U_r \\tag{$U_r = e^{-iHt/r}$} \\\\\n",
    "    &\\approx \\prod_{j=0}^{r-1} \\sum_{k=0}^K \\frac1{k!} (-iHt/r)^k \\\\\n",
    "    &= \\prod_{j=0}^{r-1} \\sum_{k=0}^K \\frac{(-it/r)^k}{k!} H^k \\\\\n",
    "\\end{align*}\n",
    "\n",
    "Reference used: [Simulating Hamiltonian Dynamics with a truncated Taylor Series (BCCKS)](https://arxiv.org/abs/1412.4687)\n",
    "\n",
    "## Applying LCU\n",
    "\n",
    "We first note that, in our implementation of the LCU algorithm, the only constraint on the operator $H$ was that we assumed $H$ to be Hermitian. This implies that we can think of $H$ as a Hamiltonian, which we shall now do so.\n",
    "\n",
    "Now, since we already know how to implement $H$ using the LCU algorithm explained previously, this implies that we can also implement all powers of $H$, $H^k$, by simply repeating the circuit for $H$. Furthermore, since the LCU circuit for $H$ was unitary, this implies that all powers of this circuit will also be unitary. This is indeed nice, as it is now similar to our LCU framework.\n",
    "\n",
    "### Adding phases using generators\n",
    "\n",
    "Notice that, to construct an implementation of $U_r$, all we need to do is to apply a $(-i)^k$ phase to the circuit for $H^k$. This can be done in Tequila by using generators, as follows.\n",
    "\n",
    "First, consider the example of adding a $(-i)$ phase to some $H^k$. Note that this is equivalent to simply adding a unitary transformation $U = -i = e^{-i\\frac{\\pi}{2}}$ to the end of the control block for applying $H^k$, which is just a generator corresponding to angle $\\theta = \\pi$. Suppose that $Gc$ represents the control block for $H^k$, i.e. $Gc$ denotes the particular arrangement of controlled-X gates applied to the ancilla so that it fires off the $H^k$ LCU block when desired. Then, we can implement $U$ in Tequila by setting the generators for $U$ to $Gc$."
   ]
  },
  {
   "cell_type": "code",
   "execution_count": 10,
   "id": "f32ac9f3",
   "metadata": {},
   "outputs": [],
   "source": [
    "Gc = tq.paulis.Qp(0)\n",
    "U = tq.gates.Trotterized(generator=Gc, angle=pi)"
   ]
  },
  {
   "cell_type": "markdown",
   "id": "266d0db3",
   "metadata": {},
   "source": [
    "Similarly, we can add a phase of $i$ using $U=i=e^{-i\\frac{3\\pi}{2}}$ and also a phase of $-1$ with $U=-1=e^{-i\\frac{2\\pi}{2}}$.\n",
    "\n",
    "## Further extensions\n",
    "\n",
    "### Applications of Hamiltonian simulation\n",
    "\n",
    "While there exist other algorithms for simulating Hamiltonians which may be more efficient, such as the qubitization method proposed by Low, Chuang (2019), we are now also able to use the LCU class for the same. Thus, this implies that we can now consider \n",
    "\n",
    "One such prominent example about a potential application is the renowned HHL algorithm for solving linear systems (2009), which relies on Hamiltonian simulation. By extension, we can even use the LCU method to implement algorithms which either use the HHL algorithm as a black-box, or are inspired by the HHL algorithm, such as the quantum algorithm proposed by Leyton, Osborne (2008) to solve nonlinear differential equations using Euler's method.\n",
    "\n",
    "References used:\n",
    "\n",
    "- [Hamiltonian simulation by Qubitization (LC)](https://arxiv.org/abs/1610.06546)\n",
    "\n",
    "- [Quantum algorithm for solving linear systems of equations (HHL)](https://arxiv.org/abs/0811.3171)\n",
    "\n",
    "- [A quantum algorithm to solve nonlinear differential equations](https://arxiv.org/abs/0812.4423)\n",
    "\n",
    "### Implementations of arbitrary polynomials with real or complex coefficients\n",
    "\n",
    "So far, we have looked at constructing polynomials with real coefficients and polynomials with real and purely imaginary coefficients as well. A potential extension of this technique involves constructing polynomials of the form $P = \\sum_{j=0}^{n} \\alpha_j H^j$ where $\\alpha_j \\in \\mathbb{C}$. To do so, we split any coefficient $\\alpha_j$ with $\\mathrm{Re}(\\alpha_j) \\neq 0$ and $\\mathrm{Im}(\\alpha_j) \\neq 0$ into $\\alpha_j = \\alpha_{j, 0} + i\\alpha_{j, 1}$ with $\\alpha_{j, 0}, \\alpha_{j, 1} \\in \\mathbb{R}$, and proceed with using the LCU method by absorbing phases or adding phases phases as already described."
   ]
  },
  {
   "cell_type": "markdown",
   "id": "38ecb35b",
   "metadata": {},
   "source": [
    "# Application 3: Implementing projectors\n",
    "\n",
    "Projectors are a key example of helpful non-unitary operators that are difficult to realize in practice because of their non-unitary nature. We have already looked at an example in Report 1 of using the LCU algorithm to encode a projector onto the $\\left| 0 \\right\\rangle$ ancilla qubit. Thus, using the generalized LCU approach, as long as we are able to write the projector as a linear combination of unitaries, for which we can use the paulistrings attribute in Tequila, we are able to construct a projector onto the zero-state efficiently.\n",
    "\n",
    "Furthermore, as mentioned earlier, if we are able to construct a bijection from the computational basis onto itself, we shall be able to construct a projector onto any arbitrary computational basis state."
   ]
  },
  {
   "cell_type": "markdown",
   "id": "119e0e8d",
   "metadata": {},
   "source": [
    "# Application 4: SWAP Test and Hadamard Test\n",
    "\n",
    "TODO"
   ]
  },
  {
   "cell_type": "markdown",
   "id": "17f3b88b",
   "metadata": {},
   "source": [
    "# Application 5: Implementing measurement reduction using LCU\n",
    "\n",
    "This section is based on\n",
    "\n",
    "## Introduction\n",
    "\n",
    "Consider a qubit Hamilonian $H$ over $N$ qubits which is expressed as a sum of $k$ Pauli-strings, as follows:\n",
    "\\begin{align*}\n",
    "    H &= \\sum_{j=0}^{k-1} c_j P_j\n",
    "\\end{align*}\n",
    "Here, the $c_j$ are some numerical constants and the $P_j$ refer to Pauli-strings, i.e. some products of the Pauli operators, $P_j = \\prod_{i=0}^{N-1} \\sigma_i^{(j)}$. As shown in the paper, we can rewrite $H$ as:\n",
    "\\begin{align*}\n",
    "    H &= \\sum_{n=1}^\\ell A_n\n",
    "\\end{align*}\n",
    "Here, the $A_n$ denote the \"commuting cliques\" in the expansion of $H$ as a sum of Pauli-strings. In other words, any Pauli-string in a particular commutes with all other Pauli-string in that same clique. If $C_n$ denotes the $n$-th clique, corresponding to $A_n$, we can express this as follows.\n",
    "\\begin{align*}\n",
    "    A_n &= \\sum_{j\\in C_n} c_j P_j \\\\\n",
    "    [P_i, P_j] &= 0 \\tag{$\\forall i, j \\in C_n$}\n",
    "\\end{align*}\n",
    "\n",
    "The linearity of expectation values implies that\n",
    "\\begin{align*}\n",
    "    E(\\vec{\\theta}) &= \\left\\langle H \\right\\rangle \\\\\n",
    "    &= \\sum_{j=0}^{k-1} c_j \\left\\langle \\psi(\\vec{\\theta}) \\right| P_j \\left| \\psi(\\vec{\\theta}) \\right\\rangle\n",
    "\\end{align*}\n",
    "\n",
    "## Applying LCU\n",
    "\n",
    "TODO\n",
    "\n",
    "Reference used: [Implementation of Measurement Reduction for the Variational Quantum Eigensolver (RLTC)](https://arxiv.org/abs/2012.02765v2)\n",
    "\n",
    "## Next steps\n",
    "\n",
    "Implementing this algorithm in Tequila using the LCU class. Naive implementation is difficult to automatize, so must look for alternative approach."
   ]
  },
  {
   "cell_type": "markdown",
   "id": "d3d78ad6",
   "metadata": {},
   "source": [
    "# References\n",
    "\n",
    "TODO"
   ]
  }
 ],
 "metadata": {
  "kernelspec": {
   "display_name": "Python 3",
   "language": "python",
   "name": "python3"
  },
  "language_info": {
   "codemirror_mode": {
    "name": "ipython",
    "version": 3
   },
   "file_extension": ".py",
   "mimetype": "text/x-python",
   "name": "python",
   "nbconvert_exporter": "python",
   "pygments_lexer": "ipython3",
   "version": "3.9.1"
  }
 },
 "nbformat": 4,
 "nbformat_minor": 5
}
