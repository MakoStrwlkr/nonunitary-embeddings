{
 "cells": [
  {
   "cell_type": "markdown",
   "id": "b65a3340",
   "metadata": {},
   "source": [
    "In this report, we focus on several practical applications of the LCU algorithm, which we have discussed \n",
    "\n",
    "# Application 1: Time evolution\n",
    "\n",
    "Suppose that we wish to simulate the evolution under some Hamiltonian $H$ for time $t$ within a maximum error of some $\\epsilon > 0$ with the operator $U = e^{-iHt}$. Divide the time $t$ into $r$ equal time-segments of length $t/r$. Further suppose that we can write $H$ as a linear combination $H = \\sum_{j=0}^m \\alpha_j H_j$, where each $H_j$ is unitary and $\\alpha_j > 0$ for all $j$. For each segment, define the operator for time-evolution within that segment as follows:\n",
    "\\begin{align*}\n",
    "    U_r = e^{-iHt/r} \\approx \\sum_{j=0}^K \\frac1{j!} (-iHt/r)^j\n",
    "\\end{align*}\n",
    "\n",
    "Here, we wish to truncate the Taylor series expansion of the exponential at some order $K$ such that the maximum error for each segment is $\\epsilon/r$, which would imply that the maximum result across all the segments is $\\epsilon$. Assuming that $r > \\left|\\left| H \\right|\\right| t$ (where $\\left|\\left| \\cdot \\right|\\right|$ denotes the usual matrix norm), it has been shown in (INSERT CITATION) that we must have:\n",
    "\\begin{align*}\n",
    "    K &\\in \\mathcal{O}\\left( \\frac{\\log(r/\\epsilon)}{\\log(\\log(r/\\epsilon))} \\right)\n",
    "\\end{align*}\n",
    "\n",
    "Therefore, we have that:\n",
    "\\begin{align*}\n",
    "    U &= e^{-iHt} \\\\\n",
    "    &= \\prod_{j=0}^{r-1} U_r \\tag{$U_r = e^{-iHt/r}$} \\\\\n",
    "    &\\approx \\prod_{j=0}^{r-1} \\sum_{k=0}^K \\frac1{k!} (-iHt/r)^k \\\\\n",
    "    &= \\prod_{j=0}^{r-1} \\sum_{k=0}^K \\frac{(-it/r)^k}{k!} H^k \\\\\n",
    "\\end{align*}\n",
    "\n",
    "Now, note that, since we already know how to implement $H$ using the LCU algorithm explained previously, this implies that we can also implement all powers of $H$, $H^k$, by simply repeating the circuit for $H$. Furthermore, since the LCU circuit for $H$ was unitary, this implies that all powers of this circuit will also be unitary. This is indeed nice, as it is now similar to our LCU framework.\n",
    "\n",
    "Thus, to construct an implementation of $U_r$, all we need to do is to apply a $(-i)^k$ phase to the circuit for $H^k$. This can be done in Tequila by using generators, as follows:\n",
    "\n",
    "TODO"
   ]
  },
  {
   "cell_type": "markdown",
   "id": "119e0e8d",
   "metadata": {},
   "source": []
  },
  {
   "cell_type": "markdown",
   "id": "075d1583",
   "metadata": {},
   "source": []
  },
  {
   "cell_type": "markdown",
   "id": "935347b2",
   "metadata": {},
   "source": []
  },
  {
   "cell_type": "markdown",
   "id": "cc001ada",
   "metadata": {},
   "source": []
  },
  {
   "cell_type": "markdown",
   "id": "edf5951b",
   "metadata": {},
   "source": []
  },
  {
   "cell_type": "markdown",
   "id": "867186da",
   "metadata": {},
   "source": []
  },
  {
   "cell_type": "markdown",
   "id": "4e0b277c",
   "metadata": {},
   "source": []
  },
  {
   "cell_type": "markdown",
   "id": "059485ab",
   "metadata": {},
   "source": []
  },
  {
   "cell_type": "markdown",
   "id": "050a6e19",
   "metadata": {},
   "source": []
  },
  {
   "cell_type": "markdown",
   "id": "d3d78ad6",
   "metadata": {},
   "source": []
  }
 ],
 "metadata": {
  "kernelspec": {
   "display_name": "Python 3",
   "language": "python",
   "name": "python3"
  },
  "language_info": {
   "codemirror_mode": {
    "name": "ipython",
    "version": 3
   },
   "file_extension": ".py",
   "mimetype": "text/x-python",
   "name": "python",
   "nbconvert_exporter": "python",
   "pygments_lexer": "ipython3",
   "version": "3.9.1"
  }
 },
 "nbformat": 4,
 "nbformat_minor": 5
}
