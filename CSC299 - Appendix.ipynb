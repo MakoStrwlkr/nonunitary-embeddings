{
 "cells": [
  {
   "cell_type": "markdown",
   "id": "de6853ee",
   "metadata": {},
   "source": [
    "# Appendix 1A: Unitary matrices\n",
    "\n",
    "## Unitary operators\n",
    "\n",
    "### Definition: Unitary operators\n",
    "Recall that each operator on a complex Hilbert space, $A$, has a corresponding adjoint operator, $A^\\dagger$. We say that an operator, $U$, is unitary if we have that $AA^\\dagger = I = A^\\dagger A$, where $I$ denotes the identity operator of appropriate dimension.\n",
    "\n",
    "### Definition: Isometries\n",
    "An operator, $S$, is said to be an isometry if it preserves \n",
    "\n",
    "Note: Unitary is not the same as isometry\n",
    "\n",
    "### Proposition: All unitary matrices are isometries, but not all isometries are unitary.\n",
    "TODO\n",
    "\n",
    "## Pauli operators\n",
    "\n",
    "### Definition: Pauli operators\n",
    "TODO\n",
    "\n",
    "### Proposition: Pauli matrices form a basis\n",
    "TODO\n",
    "\n",
    "### Tequila example: Decomposing arbitrary operators into Pauli strings\n",
    "TODO"
   ]
  },
  {
   "cell_type": "markdown",
   "id": "2a6e9de6",
   "metadata": {},
   "source": []
  },
  {
   "cell_type": "code",
   "execution_count": null,
   "id": "265d2813",
   "metadata": {},
   "outputs": [],
   "source": []
  },
  {
   "cell_type": "markdown",
   "id": "1672da96",
   "metadata": {},
   "source": []
  },
  {
   "cell_type": "code",
   "execution_count": null,
   "id": "695d03cb",
   "metadata": {},
   "outputs": [],
   "source": []
  },
  {
   "cell_type": "markdown",
   "id": "9478b96d",
   "metadata": {},
   "source": []
  },
  {
   "cell_type": "markdown",
   "id": "66283ee6",
   "metadata": {},
   "source": [
    "# Appendix 1B: Amplitude amplification\n",
    "\n",
    "## Algorithm\n",
    "\n",
    "### Definition: Oblivious amplitude amplification operator (obv_amp_amp)\n",
    "TODO\n",
    "\n",
    "### Lemma: 2D-Subspace\n",
    "TODO\n",
    "\n",
    "### Lemma: Repeated applications of obv_amp_amp\n",
    "TODO\n",
    "\n",
    "## Analysis\n",
    "\n",
    "### Lemma: Complexity\n",
    "TODO"
   ]
  },
  {
   "cell_type": "code",
   "execution_count": null,
   "id": "30808451",
   "metadata": {},
   "outputs": [],
   "source": []
  },
  {
   "cell_type": "markdown",
   "id": "ad1f6dad",
   "metadata": {},
   "source": [
    "# Appendix 2A: 2-qubit State preparation\n",
    "\n",
    "TODO"
   ]
  },
  {
   "cell_type": "code",
   "execution_count": null,
   "id": "88ea56ff",
   "metadata": {},
   "outputs": [],
   "source": []
  },
  {
   "cell_type": "code",
   "execution_count": null,
   "id": "244ed781",
   "metadata": {},
   "outputs": [],
   "source": []
  },
  {
   "cell_type": "markdown",
   "id": "04d8477a",
   "metadata": {},
   "source": [
    "# Appendix 3A: State preparation (general case)\n",
    "\n",
    "TODO"
   ]
  },
  {
   "cell_type": "code",
   "execution_count": null,
   "id": "4c75ecbd",
   "metadata": {},
   "outputs": [],
   "source": []
  },
  {
   "cell_type": "code",
   "execution_count": null,
   "id": "0f02b9d9",
   "metadata": {},
   "outputs": [],
   "source": []
  },
  {
   "cell_type": "code",
   "execution_count": null,
   "id": "17b7b20a",
   "metadata": {},
   "outputs": [],
   "source": []
  },
  {
   "cell_type": "code",
   "execution_count": null,
   "id": "dcb0ac84",
   "metadata": {},
   "outputs": [],
   "source": []
  },
  {
   "cell_type": "code",
   "execution_count": null,
   "id": "23c9b72d",
   "metadata": {},
   "outputs": [],
   "source": []
  },
  {
   "cell_type": "code",
   "execution_count": null,
   "id": "ff44365b",
   "metadata": {},
   "outputs": [],
   "source": []
  },
  {
   "cell_type": "code",
   "execution_count": null,
   "id": "6d67688f",
   "metadata": {},
   "outputs": [],
   "source": []
  },
  {
   "cell_type": "code",
   "execution_count": null,
   "id": "f6f6d77d",
   "metadata": {},
   "outputs": [],
   "source": []
  },
  {
   "cell_type": "code",
   "execution_count": null,
   "id": "283401ea",
   "metadata": {},
   "outputs": [],
   "source": []
  },
  {
   "cell_type": "code",
   "execution_count": null,
   "id": "3e33be55",
   "metadata": {},
   "outputs": [],
   "source": []
  },
  {
   "cell_type": "code",
   "execution_count": null,
   "id": "768ccdda",
   "metadata": {},
   "outputs": [],
   "source": []
  },
  {
   "cell_type": "code",
   "execution_count": null,
   "id": "b922b1f9",
   "metadata": {},
   "outputs": [],
   "source": []
  },
  {
   "cell_type": "code",
   "execution_count": null,
   "id": "5408039e",
   "metadata": {},
   "outputs": [],
   "source": []
  },
  {
   "cell_type": "code",
   "execution_count": null,
   "id": "8efb5d54",
   "metadata": {},
   "outputs": [],
   "source": []
  },
  {
   "cell_type": "markdown",
   "id": "e0f11e41",
   "metadata": {},
   "source": [
    "# End of document"
   ]
  }
 ],
 "metadata": {
  "kernelspec": {
   "display_name": "Python 3",
   "language": "python",
   "name": "python3"
  },
  "language_info": {
   "codemirror_mode": {
    "name": "ipython",
    "version": 3
   },
   "file_extension": ".py",
   "mimetype": "text/x-python",
   "name": "python",
   "nbconvert_exporter": "python",
   "pygments_lexer": "ipython3",
   "version": "3.9.1"
  }
 },
 "nbformat": 4,
 "nbformat_minor": 5
}
