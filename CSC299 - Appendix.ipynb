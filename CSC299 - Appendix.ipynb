{
 "cells": [
  {
   "cell_type": "markdown",
   "id": "8b4453de",
   "metadata": {},
   "source": [
    "This section contains some additional details about the proof for the claim about repeated applications of the amplitude amplification function that were stated in Report 1. Since the details of the proof are of lesser importance for our purposes as compared to the implementation of the complete amplitude amplification procedure and to prevent Report 1 from being excessively long, these details are now provided in this Appendix section.\n",
    "\n",
    "The theorems presented here are Lemma 3.7 and Lemma 3.6 respectively in the paper by Berry, Childs, Cleve, Kothari, Somma (2014)."
   ]
  },
  {
   "cell_type": "markdown",
   "id": "66283ee6",
   "metadata": {},
   "source": [
    "# Amplitude amplification\n",
    "\n",
    "## Theorem: 2D-Subspace Theorem\n",
    "TODO\n",
    "### Proof\n",
    "TODO\n",
    "\n",
    "\n",
    "## Theorem: Repeated applications of obv_amp_amp\n",
    "Let $W$ be a unitary operator which acts on $\\mu + n$ qubits and let $H$ be any arbitrary operator which acts on $n$ qubits, respectively, and let $\\theta \\in (0, \\pi/2)$. Suppose that for any $n$-qubit state $\\left| \\psi \\right\\rangle$,\n",
    "\\begin{align*}\n",
    "    W \\left|0^\\mu \\right\\rangle \\left| \\psi \\right\\rangle &= \\sin(\\theta) \\left| 0^\\mu \\right\\rangle H \\left| \\psi \\right\\rangle  + \\cos(\\theta) \\left| \\Phi^\\perp \\right\\rangle\n",
    "\\end{align*}\n",
    "where $\\left| \\Phi^\\perp \\right\\rangle$ is an $(\\mu + n)$-qubit state that depends on $\\left| \\psi \\right\\rangle$ and satisfies $P_0 \\left| \\Phi^\\perp \\right\\rangle = 0$, where $P_0 = \\left| 0^\\mu \\right\\rangle \\left\\langle 0^\\mu \\right| \\otimes I$. Let $R = 2P_0  − I$ and $S = - W R W^\\dagger R$. Then for any $k\\in \\mathbb{Z}$,\n",
    "\\begin{align*}\n",
    "    S^k W \\left|0^\\mu \\right\\rangle \\left| \\psi \\right\\rangle &= \\sin ( (2k + 1) \\theta ) \\left|0^\\mu \\right\\rangle \\left| \\psi \\right\\rangle + \\cos ( (2k + 1) \\theta ) \\left| \\Phi^\\perp \\right\\rangle\n",
    "\\end{align*}\n",
    "\n",
    "### Proof\n",
    "\n",
    "TODO\n",
    "\n",
    "Reference used: \n",
    "\n",
    "- [Simulating Hamiltonian Dynamics with a truncated Taylor Series (BCCKS)](https://arxiv.org/abs/1412.4687)\n",
    "\n",
    "- [Exponential improvement in precision for simulating sparse Hamiltonians (BCCKS)](https://arxiv.org/abs/1312.1414)"
   ]
  },
  {
   "cell_type": "markdown",
   "id": "9f169779",
   "metadata": {},
   "source": [
    "# References\n",
    "\n",
    "- Berry, D. W., Childs, A. M., Cleve, R., Kothari, R., Somma, R. D. (2014). Exponential improvement in precision for simulating sparse Hamiltonians. arXiv preprint [arXiv:1312.1414](https://arxiv.org/abs/1312.1414)\n",
    "\n",
    "- Berry, D. W., Childs, A. M., Cleve, R., Kothari, R., Somma, R. D. (2014). Simulating Hamiltonian dynamics with a truncated Taylor series. [arXiv:1412.4687](https://arxiv.org/abs/1412.4687)"
   ]
  }
 ],
 "metadata": {
  "kernelspec": {
   "display_name": "Python 3",
   "language": "python",
   "name": "python3"
  },
  "language_info": {
   "codemirror_mode": {
    "name": "ipython",
    "version": 3
   },
   "file_extension": ".py",
   "mimetype": "text/x-python",
   "name": "python",
   "nbconvert_exporter": "python",
   "pygments_lexer": "ipython3",
   "version": "3.9.1"
  }
 },
 "nbformat": 4,
 "nbformat_minor": 5
}
